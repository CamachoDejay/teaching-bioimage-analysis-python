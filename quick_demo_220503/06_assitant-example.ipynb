{
 "cells": [
  {
   "cell_type": "code",
   "execution_count": null,
   "id": "674df785",
   "metadata": {},
   "outputs": [],
   "source": [
    "from skimage.io import imread\n",
    "import pyclesperanto_prototype as cle\n",
    "import napari_simpleitk_image_processing as nsitk\n",
    "import napari\n",
    "viewer = napari.Viewer()"
   ]
  },
  {
   "cell_type": "code",
   "execution_count": null,
   "id": "d14f1dc1",
   "metadata": {},
   "outputs": [],
   "source": [
    "image0_C1c = imread(\n",
    "    \"C:/Users/CCI/Documents/Image_Processing/quick_demo/data/telomeres/C2-condition_1_crop.tif\")\n",
    "viewer.add_image(image0_C1c, name=\"C2-condition_1_crop\")"
   ]
  },
  {
   "cell_type": "markdown",
   "id": "3eed2c99",
   "metadata": {},
   "source": [
    "## gaussian blur"
   ]
  },
  {
   "cell_type": "code",
   "execution_count": null,
   "id": "6c8ad3b8",
   "metadata": {},
   "outputs": [],
   "source": [
    "image1_gb = cle.gaussian_blur(image0_C1c, None, 5.0, 5.0, 0.0)\n",
    "viewer.add_image(image1_gb, name='Result of gaussian_blur (clesperanto)')\n",
    "napari.utils.nbscreenshot(viewer)"
   ]
  },
  {
   "cell_type": "markdown",
   "id": "0ca56e68",
   "metadata": {},
   "source": [
    "## gradient magnitude"
   ]
  },
  {
   "cell_type": "code",
   "execution_count": null,
   "id": "112f5089",
   "metadata": {},
   "outputs": [],
   "source": [
    "image2_G = nsitk.gradient_magnitude(image1_gb)\n",
    "viewer.add_image(image2_G, name='Result of Gradient magnitude (n-SimpleITK)')\n",
    "napari.utils.nbscreenshot(viewer)"
   ]
  },
  {
   "cell_type": "markdown",
   "id": "bafafa08",
   "metadata": {},
   "source": [
    "## threshold otsu"
   ]
  },
  {
   "cell_type": "code",
   "execution_count": null,
   "id": "71a7582d",
   "metadata": {},
   "outputs": [],
   "source": [
    "image3_to = cle.threshold_otsu(image1_gb)\n",
    "viewer.add_labels(image3_to, name='Result of threshold_otsu (clesperanto)')\n",
    "napari.utils.nbscreenshot(viewer)"
   ]
  },
  {
   "cell_type": "markdown",
   "id": "f7db50ee",
   "metadata": {},
   "source": [
    "## voronoi otsu labeling"
   ]
  },
  {
   "cell_type": "code",
   "execution_count": null,
   "id": "5319aaf2",
   "metadata": {},
   "outputs": [],
   "source": [
    "image4_vol = cle.voronoi_otsu_labeling(image3_to, None, 10.0, -5.0)\n",
    "viewer.add_labels(\n",
    "    image4_vol, name='Result of voronoi_otsu_labeling (clesperanto)')\n",
    "napari.utils.nbscreenshot(viewer)"
   ]
  }
 ],
 "metadata": {
  "jupytext": {
   "cell_metadata_filter": "-all",
   "main_language": "python",
   "notebook_metadata_filter": "-all"
  },
  "language_info": {
   "name": "python"
  }
 },
 "nbformat": 4,
 "nbformat_minor": 5
}
