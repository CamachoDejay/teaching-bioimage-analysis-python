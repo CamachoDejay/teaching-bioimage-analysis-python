{
 "cells": [
  {
   "cell_type": "markdown",
   "metadata": {},
   "source": [
    "# Book 2: How to do simple plots with Pandas\n",
    "\n",
    "Here we will go over how to use ```pandas``` to read ```.csv``` files and then make a simple plot\n",
    "\n",
    "## Load the data\n",
    "Let us use what we learned before to load the ```.csv``` table into a data frame"
   ]
  },
  {
   "cell_type": "code",
   "execution_count": null,
   "metadata": {},
   "outputs": [],
   "source": [
    "import pandas as pd \n",
    "\n",
    "df1 = pd.read_csv('./data/Results_01.csv')\n",
    "\n",
    "df1.head()"
   ]
  },
  {
   "cell_type": "markdown",
   "metadata": {},
   "source": [
    "## Using Pandas to make basic plots\n",
    "\n",
    "Pandas can be used to do many statistical operations but also to do basic plots easily. To do this we will need to install another well known package called [matplotlib](https://matplotlib.org/). To install ```matplotlib``` you can follow this [link](https://anaconda.org/conda-forge/matplotlib). But basically:\n",
    "\n",
    "* Go to the Anaconda Prompt\n",
    "* activate your conda environment:\n",
    "\n",
    "```\n",
    "> conda activate bias-env\n",
    "```\n",
    "* run the command: ```conda install -c conda-forge matplotlib```\n",
    "* say yes via ```y```\n",
    "\n",
    "As an exercise you can try to run the cell below before and after intalling ```matplotlib```"
   ]
  },
  {
   "cell_type": "code",
   "execution_count": null,
   "metadata": {},
   "outputs": [],
   "source": [
    "# simple histogram\n",
    "ax = df1.hist(column='Area')\n",
    "ax0 = ax[0,0]\n",
    "ax0.set_ylabel('occurence')"
   ]
  }
 ],
 "metadata": {
  "kernelspec": {
   "display_name": "bias-env",
   "language": "python",
   "name": "bias-env"
  },
  "language_info": {
   "codemirror_mode": {
    "name": "ipython",
    "version": 3
   },
   "file_extension": ".py",
   "mimetype": "text/x-python",
   "name": "python",
   "nbconvert_exporter": "python",
   "pygments_lexer": "ipython3",
   "version": "3.9.18"
  },
  "orig_nbformat": 4,
  "vscode": {
   "interpreter": {
    "hash": "a02576cc11b8a30283279cac21081ca45fa867e2bd6a6ef9b059d3b132dd7208"
   }
  }
 },
 "nbformat": 4,
 "nbformat_minor": 2
}
