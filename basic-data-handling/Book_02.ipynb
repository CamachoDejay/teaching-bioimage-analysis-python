{
 "cells": [
  {
   "cell_type": "markdown",
   "metadata": {},
   "source": [
    "# Book 2: How to do simple plots with Pandas\n",
    "\n",
    "Here we will go over how to use ```pandas``` to read ```.csv``` files and then make a simple plot\n",
    "\n",
    "## Load the data\n",
    "Let us use what we learned before to load the ```.csv``` table into a data frame"
   ]
  },
  {
   "cell_type": "code",
   "execution_count": 1,
   "metadata": {},
   "outputs": [
    {
     "name": "stdout",
     "output_type": "stream",
     "text": [
      "          Label  Area    Perim.    Circ.       AR    Round  Solidity\n",
      "0  1  blobs.gif   425  90.42641  0.65314  2.06670  0.48386   0.88542\n",
      "1  2  blobs.gif   181  55.21320  0.74611  1.77749  0.56259   0.94517\n",
      "2  3  blobs.gif   656  96.52691  0.88474  1.06472  0.93921   0.96970\n",
      "3  4  blobs.gif   430  79.11270  0.86335  1.06156  0.94201   0.95662\n",
      "4  5  blobs.gif   477  86.04163  0.80968  1.56805  0.63773   0.96657\n"
     ]
    }
   ],
   "source": [
    "import pandas as pd \n",
    "\n",
    "df1 = pd.read_csv('./data/Results_01.csv')\n",
    "\n",
    "print(df1.head())"
   ]
  },
  {
   "cell_type": "markdown",
   "metadata": {},
   "source": [
    "## Using Pandas to make basic plots\n",
    "\n",
    "Pandas can be used to do many statistical operations but also to do basic plots easily. To do this we will need to install another well known package called [matplotlib](https://matplotlib.org/). To install ```matplotlib``` you can follow this [link](https://anaconda.org/conda-forge/matplotlib). But basically:\n",
    "\n",
    "* Go to the Anaconda Prompt\n",
    "* activate your conda environment:\n",
    "\n",
    "```\n",
    "> conda activate bias-env\n",
    "```\n",
    "* run the command: ```conda install -c conda-forge matplotlib```\n",
    "* say yes via ```y```\n",
    "\n",
    "As an exercise you can try to run the cell below before and after intalling ```matplotlib```"
   ]
  },
  {
   "cell_type": "code",
   "execution_count": 2,
   "metadata": {},
   "outputs": [
    {
     "data": {
      "text/plain": [
       "array([[<AxesSubplot: title={'center': 'Area'}>]], dtype=object)"
      ]
     },
     "execution_count": 2,
     "metadata": {},
     "output_type": "execute_result"
    },
    {
     "data": {
      "image/png": "[encoded data removed]",
      "text/plain": [
       "<Figure size 640x480 with 1 Axes>"
      ]
     },
     "metadata": {},
     "output_type": "display_data"
    }
   ],
   "source": [
    "# simple histogram\n",
    "df1.hist(column='Area')"
   ]
  }
 ],
 "metadata": {
  "kernelspec": {
   "display_name": "Python 3.9.13 ('bias-env')",
   "language": "python",
   "name": "python3"
  },
  "language_info": {
   "codemirror_mode": {
    "name": "ipython",
    "version": 3
   },
   "file_extension": ".py",
   "mimetype": "text/x-python",
   "name": "python",
   "nbconvert_exporter": "python",
   "pygments_lexer": "ipython3",
   "version": "3.9.13"
  },
  "orig_nbformat": 4,
  "vscode": {
   "interpreter": {
    "hash": "a02576cc11b8a30283279cac21081ca45fa867e2bd6a6ef9b059d3b132dd7208"
   }
  }
 },
 "nbformat": 4,
 "nbformat_minor": 2
}
