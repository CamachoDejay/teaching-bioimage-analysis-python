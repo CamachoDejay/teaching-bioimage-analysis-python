{
 "cells": [
  {
   "cell_type": "markdown",
   "id": "c7754642",
   "metadata": {},
   "source": [
    "# Book 1: How to read and concatenate 2 csv files\n",
    "\n",
    "Here we will go over how to use ```pandas``` to read ```.csv``` files and how to concatenate them together using panda´s  **data_frames**\n",
    "\n",
    "## Simple math with just Python\n",
    "\n",
    "We will create 2 numeric variables ```a``` and ```b``` and then ```print``` their sum."
   ]
  },
  {
   "cell_type": "code",
   "execution_count": null,
   "id": "34faf413",
   "metadata": {},
   "outputs": [],
   "source": [
    "a = 3\n",
    "b = 5\n",
    "\n",
    "print(a+b)"
   ]
  },
  {
   "cell_type": "code",
   "execution_count": null,
   "id": "258031f7",
   "metadata": {},
   "outputs": [],
   "source": [
    "import pandas as pd \n",
    "\n",
    "df1 = pd.read_csv('.\\data\\Results_01.csv')\n",
    "\n",
    "print(df1.head())"
   ]
  },
  {
   "cell_type": "code",
   "execution_count": null,
   "id": "19ff8e47",
   "metadata": {},
   "outputs": [],
   "source": [
    "df1.hist(column='Area')\n"
   ]
  },
  {
   "cell_type": "code",
   "execution_count": null,
   "id": "b2f12c22",
   "metadata": {},
   "outputs": [],
   "source": [
    "df1['Student'] = '01'\n",
    "print(df1.to_string())"
   ]
  },
  {
   "cell_type": "code",
   "execution_count": null,
   "id": "df376640",
   "metadata": {},
   "outputs": [],
   "source": [
    "df2 = pd.read_csv('.\\data\\Results_02.csv')\n",
    "df2['Student'] = '02'\n",
    "print(df1.head())\n",
    "print(df2.head())\n",
    "\n",
    "df1.hist(column='Area')\n",
    "df2.hist(column='Area')"
   ]
  },
  {
   "cell_type": "code",
   "execution_count": null,
   "id": "90c26784",
   "metadata": {},
   "outputs": [],
   "source": [
    "# concatenate\n",
    "df = pd.concat([df1, df2])\n",
    "print(df.to_string())"
   ]
  },
  {
   "cell_type": "code",
   "execution_count": null,
   "id": "ce673c69",
   "metadata": {},
   "outputs": [],
   "source": [
    "import seaborn as sns\n",
    "\n",
    "sns.violinplot(x='Student', y='Area', data=df)"
   ]
  }
 ],
 "metadata": {
  "interpreter": {
   "hash": "a47c582ae1ddcb3649a101dbd2e63894e814a0239659f7cbc9e9d69ab3795535"
  },
  "kernelspec": {
   "display_name": "Python 3.9.13 ('bias-env': conda)",
   "language": "python",
   "name": "python3"
  },
  "language_info": {
   "codemirror_mode": {
    "name": "ipython",
    "version": 3
   },
   "file_extension": ".py",
   "mimetype": "text/x-python",
   "name": "python",
   "nbconvert_exporter": "python",
   "pygments_lexer": "ipython3",
   "version": "3.9.13"
  }
 },
 "nbformat": 4,
 "nbformat_minor": 5
}
