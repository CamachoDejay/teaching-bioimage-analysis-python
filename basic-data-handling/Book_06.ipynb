{
 "cells": [
  {
   "cell_type": "markdown",
   "metadata": {},
   "source": [
    "# Quick example of a pivot table\n",
    "\n",
    "Inspired in the last excercise of JY we can pick up where he left and see an exaple of a pivot table"
   ]
  },
  {
   "cell_type": "code",
   "execution_count": 4,
   "metadata": {},
   "outputs": [
    {
     "name": "stdout",
     "output_type": "stream",
     "text": [
      "   Unnamed: 0         Label  Area    Perim.    Circ.       AR    Round  \\\n",
      "0           0  1  blobs.gif   425  90.42641  0.65314  2.06670  0.48386   \n",
      "1           1  2  blobs.gif   181  55.21320  0.74611  1.77749  0.56259   \n",
      "2           2  3  blobs.gif   656  96.52691  0.88474  1.06472  0.93921   \n",
      "3           3  4  blobs.gif   430  79.11270  0.86335  1.06156  0.94201   \n",
      "4           4  5  blobs.gif   477  86.04163  0.80968  1.56805  0.63773   \n",
      "\n",
      "   Solidity  Student  \n",
      "0   0.88542        1  \n",
      "1   0.94517        1  \n",
      "2   0.96970        1  \n",
      "3   0.95662        1  \n",
      "4   0.96657        1  \n",
      "number of cols: 125, number of rows: 10\n"
     ]
    }
   ],
   "source": [
    "import pandas as pd \n",
    "\n",
    "df = pd.read_csv('./data/Results_total.csv')\n",
    "\n",
    "print(df.head())\n",
    "print(f\"number of cols: {df.shape[0]}, number of rows: {df.shape[1]}\")"
   ]
  },
  {
   "cell_type": "markdown",
   "metadata": {},
   "source": [
    "The pivot table. For some simple examples look at: https://www.machinelearningplus.com/pandas/pandas-pivot-table-in-python/"
   ]
  },
  {
   "cell_type": "code",
   "execution_count": 7,
   "metadata": {},
   "outputs": [
    {
     "name": "stdout",
     "output_type": "stream",
     "text": [
      "               sum      mean\n",
      "                AR        AR\n",
      "Student                     \n",
      "1         98.33391  1.612031\n",
      "2        103.37781  1.615278\n"
     ]
    }
   ],
   "source": [
    "output = pd.pivot_table(data=df, \n",
    "                        index=['Student'], \n",
    "                        #columns=['Categorical'], \n",
    "                        values='AR',\n",
    "                        aggfunc=['sum', 'mean'])\n",
    "\n",
    "print(output.head())"
   ]
  }
 ],
 "metadata": {
  "kernelspec": {
   "display_name": "Python 3.9.13 ('bias-env')",
   "language": "python",
   "name": "python3"
  },
  "language_info": {
   "codemirror_mode": {
    "name": "ipython",
    "version": 3
   },
   "file_extension": ".py",
   "mimetype": "text/x-python",
   "name": "python",
   "nbconvert_exporter": "python",
   "pygments_lexer": "ipython3",
   "version": "3.9.13"
  },
  "orig_nbformat": 4,
  "vscode": {
   "interpreter": {
    "hash": "a02576cc11b8a30283279cac21081ca45fa867e2bd6a6ef9b059d3b132dd7208"
   }
  }
 },
 "nbformat": 4,
 "nbformat_minor": 2
}
