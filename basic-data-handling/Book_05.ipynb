{
 "cells": [
  {
   "cell_type": "markdown",
   "metadata": {},
   "source": [
    "# Book 5: Statistical tests using Pandas and Scipy\n",
    "\n",
    "Here we will go over how to use ```pandas``` to read several ```.csv``` files, **concatenate** them into a single table, and then use ```scipy``` for statistical tests.\n",
    "\n",
    "## Load the data\n",
    "Let us use what we learned before to load the ```.csv``` table into a data frame"
   ]
  },
  {
   "cell_type": "code",
   "execution_count": null,
   "metadata": {},
   "outputs": [],
   "source": [
    "import pandas as pd\n",
    "\n",
    "df1 = pd.read_csv('./data/Results_01.csv')\n",
    "df1['Student'] = '01'\n",
    "\n",
    "df2 = pd.read_csv('./data/Results_02.csv')\n",
    "df2['Student'] = '02'\n",
    "\n",
    "# concatenate\n",
    "df = pd.concat([df1, df2])\n",
    "print(df.head())\n",
    "\n",
    "# simple box plot, to vissualy inspect if there are big differences between both groups\n",
    "df.boxplot(column=\"Area\",by=\"Student\")"
   ]
  },
  {
   "cell_type": "markdown",
   "metadata": {},
   "source": [
    "## Using Scipy for statistical testing\n",
    "\n",
    "When we do a **statistical test** we assume a **null hypotesis - H0** and our objective is to try and **falsify** that hyotesis. In most cases the **H0** poses that there is no relationship (or difference) between the **distributions** being tested. To determine if **H0** is false we use the now famous **p-value**. The **p-value** The estimates how probable it is that you would see the differences between the two sets if the null hypothesis were true. Therefore, a p-value of 0.04 means that you have a 4% chance that **H0** is true and thus we report a statistically significant relationship (or difference) between the input and target distributions.\n",
    "\n",
    "## Scipy\n",
    "[Scipy](https://scipy.org/) is a big package for scientific computing commonly used in Python, it is already included in our virtual environment due to packages previously installed. To test that this is the case try to run the block bellow. If you run into problems then [install](https://anaconda.org/conda-forge/scipy) the package by: ```conda install -c conda-forge scipy```"
   ]
  },
  {
   "cell_type": "code",
   "execution_count": null,
   "metadata": {},
   "outputs": [],
   "source": [
    "from scipy import stats \n",
    "# as this runs, we are good to continue"
   ]
  },
  {
   "cell_type": "markdown",
   "metadata": {},
   "source": [
    "For clarity let us get out the numbers of interest from the data table by using the ```query``` method of pandas data_frames. ```query``` allows us to extract values from a column while filtering based ob the values of another. Bellow, I ```query``` for the **Area** values that belong to **Student 01** and **02** respectively."
   ]
  },
  {
   "cell_type": "code",
   "execution_count": null,
   "metadata": {},
   "outputs": [],
   "source": [
    "Area_s1=df.query(\"Student == '01'\")['Area']\n",
    "Area_s2=df.query(\"Student == '02'\")['Area']"
   ]
  },
  {
   "cell_type": "markdown",
   "metadata": {},
   "source": [
    "One of the most common mistakes while doing statistical testing is to use a particular method, e.g. t-test, whitout checkig first that the underlying assumptions of the test are true. In general we must check the following to know what tests we can use:\n",
    "\n",
    "* Independence: each meassurement of the variables is independent of each other\n",
    "\n",
    "* Normality: the data follows a normal distribution (Gaussian distribution).\n",
    "\n",
    "* Homogeneous variance: the variance (spread around the mean) within each group being compared is similar.\n",
    "\n",
    "\n",
    "## Homogeneity\n",
    "Lets us first test for homogeneous variance "
   ]
  },
  {
   "cell_type": "code",
   "execution_count": null,
   "metadata": {},
   "outputs": [],
   "source": [
    "# homogeneity\n",
    "stats.levene(Area_s1, Area_s2)"
   ]
  },
  {
   "cell_type": "markdown",
   "metadata": {},
   "source": [
    "## Normality\n",
    "\n",
    "Now we check is the distributions to test are normal - aka Gaussian"
   ]
  },
  {
   "cell_type": "code",
   "execution_count": null,
   "metadata": {},
   "outputs": [],
   "source": [
    "# Shapiro-Wilk test for normality\n",
    "stats.shapiro(Area_s1)"
   ]
  },
  {
   "cell_type": "code",
   "execution_count": null,
   "metadata": {},
   "outputs": [],
   "source": [
    "# Shapiro-Wilk test for normality\n",
    "stats.shapiro(Area_s2)"
   ]
  },
  {
   "cell_type": "markdown",
   "metadata": {},
   "source": [
    "## The actual t-test\n",
    "\n",
    "Now that all seems to be good then we can run the t-test"
   ]
  },
  {
   "cell_type": "code",
   "execution_count": null,
   "metadata": {},
   "outputs": [],
   "source": [
    "# Independent t-test\n",
    "stats.ttest_ind(Area_s1, Area_s2)"
   ]
  }
 ],
 "metadata": {
  "kernelspec": {
   "display_name": "Python 3.9.13 ('bias-env')",
   "language": "python",
   "name": "python3"
  },
  "language_info": {
   "codemirror_mode": {
    "name": "ipython",
    "version": 3
   },
   "file_extension": ".py",
   "mimetype": "text/x-python",
   "name": "python",
   "nbconvert_exporter": "python",
   "pygments_lexer": "ipython3",
   "version": "3.9.13"
  },
  "orig_nbformat": 4,
  "vscode": {
   "interpreter": {
    "hash": "a02576cc11b8a30283279cac21081ca45fa867e2bd6a6ef9b059d3b132dd7208"
   }
  }
 },
 "nbformat": 4,
 "nbformat_minor": 2
}
