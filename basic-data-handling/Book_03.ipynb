{
 "cells": [
  {
   "cell_type": "markdown",
   "metadata": {},
   "source": [
    "# Book 3: How to do concatenate data frames\n",
    "\n",
    "Here we will go over how to use ```pandas``` to read several ```.csv``` files and then **concatenate** them into a single table. This is very useful to load the results of different conditions, or biological replicates, and to **tag** these conditions so we can later use them to compare results and do statistical tests.\n",
    "\n",
    "## Load the data\n",
    "Let us use what we learned before to load the ```.csv``` table into a data frame"
   ]
  },
  {
   "cell_type": "code",
   "execution_count": 7,
   "metadata": {},
   "outputs": [
    {
     "name": "stdout",
     "output_type": "stream",
     "text": [
      "          Label  Area    Perim.    Circ.       AR    Round  Solidity\n",
      "0  1  blobs.gif   425  90.42641  0.65314  2.06670  0.48386   0.88542\n",
      "1  2  blobs.gif   181  55.21320  0.74611  1.77749  0.56259   0.94517\n",
      "2  3  blobs.gif   656  96.52691  0.88474  1.06472  0.93921   0.96970\n",
      "3  4  blobs.gif   430  79.11270  0.86335  1.06156  0.94201   0.95662\n",
      "4  5  blobs.gif   477  86.04163  0.80968  1.56805  0.63773   0.96657\n"
     ]
    }
   ],
   "source": [
    "import pandas as pd \n",
    "\n",
    "df1 = pd.read_csv('./data/Results_01.csv')\n",
    "\n",
    "print(df1.head())"
   ]
  },
  {
   "cell_type": "markdown",
   "metadata": {},
   "source": [
    "Lets add a colum to describe the \"student\" that made the analysis"
   ]
  },
  {
   "cell_type": "code",
   "execution_count": 8,
   "metadata": {},
   "outputs": [
    {
     "name": "stdout",
     "output_type": "stream",
     "text": [
      "            Label  Area     Perim.    Circ.       AR    Round  Solidity Student\n",
      "0    1  blobs.gif   425   90.42641  0.65314  2.06670  0.48386   0.88542      01\n",
      "1    2  blobs.gif   181   55.21320  0.74611  1.77749  0.56259   0.94517      01\n",
      "2    3  blobs.gif   656   96.52691  0.88474  1.06472  0.93921   0.96970      01\n",
      "3    4  blobs.gif   430   79.11270  0.86335  1.06156  0.94201   0.95662      01\n",
      "4    5  blobs.gif   477   86.04163  0.80968  1.56805  0.63773   0.96657      01\n",
      "5    6  blobs.gif   276   60.52691  0.94672  1.11738  0.89495   0.94845      01\n",
      "6    7  blobs.gif    70   29.79899  0.99061  1.13553  0.88065   0.90909      01\n",
      "7    8  blobs.gif   265   61.35534  0.88461  1.38821  0.72035   0.93146      01\n",
      "8    9  blobs.gif   220   54.52691  0.92985  1.12587  0.88820   0.92827      01\n",
      "9   10  blobs.gif    26   26.48528  0.46577  3.84899  0.25981   0.86667      01\n",
      "10  11  blobs.gif   492   82.08326  0.91763  1.07144  0.93333   0.94798      01\n",
      "11  12  blobs.gif   650   96.91169  0.86970  1.33339  0.74997   0.95308      01\n",
      "12  13  blobs.gif   220   54.52691  0.92985  1.13619  0.88013   0.93418      01\n",
      "13  14  blobs.gif    88   34.38478  0.93532  1.22406  0.81695   0.92147      01\n",
      "14  15  blobs.gif   441   77.84062  0.91461  1.20597  0.82920   0.94635      01\n",
      "15  16  blobs.gif   391   85.49747  0.67217  2.45579  0.40720   0.90614      01\n",
      "16  17  blobs.gif   511   83.25483  0.92643  1.17220  0.85310   0.95514      01\n",
      "17  18  blobs.gif   417   76.42641  0.89714  1.43396  0.69737   0.94989      01\n",
      "18  19  blobs.gif   257   59.11270  0.92423  1.33803  0.74737   0.95009      01\n",
      "19  20  blobs.gif   347   68.76955  0.92203  1.16649  0.85727   0.94166      01\n",
      "20  21  blobs.gif   148   44.87006  0.92376  1.18725  0.84228   0.92500      01\n",
      "21  22  blobs.gif   403   73.59798  0.93494  1.08942  0.91792   0.95047      01\n",
      "22  23  blobs.gif   413   84.42641  0.72812  1.80288  0.55467   0.87686      01\n",
      "23  24  blobs.gif   252   58.52691  0.92448  1.14850  0.87070   0.93680      01\n",
      "24  25  blobs.gif   500   87.94113  0.81245  1.66888  0.59921   0.96525      01\n",
      "25  26  blobs.gif   277   61.11270  0.93202  1.12438  0.88938   0.94863      01\n",
      "26  27  blobs.gif   667  102.08326  0.80432  1.48078  0.67532   0.92897      01\n",
      "27  28  blobs.gif   171   53.21320  0.75887  1.75976  0.56826   0.94475      01\n",
      "28  29  blobs.gif   352   68.76955  0.93532  1.21557  0.82266   0.95135      01\n",
      "29  30  blobs.gif   533   86.08326  0.90386  1.20789  0.82789   0.95179      01\n",
      "30  31  blobs.gif   598  109.63961  0.62514  2.74660  0.36409   0.85429      01\n",
      "31  32  blobs.gif   629  103.39697  0.73934  1.93744  0.51614   0.89474      01\n",
      "32  33  blobs.gif   182   49.69848  0.92597  1.15164  0.86833   0.92386      01\n",
      "33  34  blobs.gif   583   88.66905  0.93182  1.08956  0.91780   0.95574      01\n",
      "34  35  blobs.gif    14   13.89949  0.91063  1.31046  0.76309   0.84848      01\n",
      "35  36  blobs.gif   263   59.69848  0.92734  1.26047  0.79335   0.94946      01\n",
      "36  37  blobs.gif   886  129.98276  0.65898  2.51057  0.39832   0.91199      01\n",
      "37  38  blobs.gif   469   87.25483  0.77411  1.72164  0.58084   0.94177      01\n",
      "38  39  blobs.gif   231   55.94113  0.92760  1.18693  0.84251   0.93333      01\n",
      "39  40  blobs.gif   157   46.28427  0.92096  1.26314  0.79168   0.92082      01\n",
      "40  41  blobs.gif   403   75.01219  0.90002  1.36989  0.72998   0.94824      01\n",
      "41  42  blobs.gif   404   73.59798  0.93726  1.24846  0.80099   0.95735      01\n",
      "42  43  blobs.gif   234   55.69848  0.94785  1.13093  0.88423   0.94545      01\n",
      "43  44  blobs.gif   368   70.76955  0.92335  1.27705  0.78305   0.95213      01\n",
      "44  45  blobs.gif   642   93.25483  0.92769  1.11644  0.89570   0.96396      01\n",
      "45  46  blobs.gif   369   70.18377  0.94138  1.13980  0.87735   0.95226      01\n",
      "46  47  blobs.gif   566   87.84062  0.92180  1.04905  0.95325   0.95689      01\n",
      "47  48  blobs.gif    63   36.14214  0.60607  2.94685  0.33935   0.92647      01\n",
      "48  49  blobs.gif   156   45.69848  0.93871  1.26978  0.78754   0.92308      01\n",
      "49  50  blobs.gif   460   86.66905  0.76955  2.01700  0.49579   0.93401      01\n",
      "50  51  blobs.gif   600   91.39697  0.90260  1.34527  0.74334   0.95087      01\n",
      "51  52  blobs.gif   535   86.08326  0.90725  1.31821  0.75860   0.95280      01\n",
      "52  53  blobs.gif   202   62.87006  0.64220  2.22498  0.44944   0.93519      01\n",
      "53  54  blobs.gif   541   84.66905  0.94833  1.06895  0.93549   0.96007      01\n",
      "54  55  blobs.gif   848  112.91169  0.83585  1.55261  0.64408   0.95227      01\n",
      "55  56  blobs.gif   268   60.52691  0.91928  1.30449  0.76658   0.94533      01\n",
      "56  57  blobs.gif   206   52.52691  0.93824  1.27810  0.78241   0.93213      01\n",
      "57  58  blobs.gif    84   45.55635  0.50862  3.84539  0.26005   0.93855      01\n",
      "58  59  blobs.gif    74   39.55635  0.59430  3.31582  0.30158   0.93671      01\n",
      "59  60  blobs.gif    48   31.55635  0.60573  2.82144  0.35443   0.88889      01\n",
      "60  61  blobs.gif    45   32.72792  0.52794  4.13762  0.24168   0.88235      01\n"
     ]
    }
   ],
   "source": [
    "df1['Student'] = '01'\n",
    "# Now I use the \"to_string\" operator which gives a bigger view of the table, we could \n",
    "# have also used \"head\"\n",
    "print(df1.to_string())"
   ]
  },
  {
   "cell_type": "markdown",
   "metadata": {},
   "source": [
    "Now we can read a second dataset, and add an extra \"student\" 02 tag"
   ]
  },
  {
   "cell_type": "code",
   "execution_count": 9,
   "metadata": {},
   "outputs": [
    {
     "name": "stdout",
     "output_type": "stream",
     "text": [
      "          Label  Area    Perim.    Circ.       AR    Round  Solidity Student\n",
      "0  1  blobs.gif   433  92.91169  0.63031  2.07469  0.48200   0.85998      02\n",
      "1  2  blobs.gif   185  55.21320  0.76260  1.77847  0.56228   0.95116      02\n",
      "2  3  blobs.gif   658  97.35534  0.87240  1.06829  0.93607   0.96694      02\n",
      "3  4  blobs.gif   434  78.52691  0.88443  1.06364  0.94017   0.95912      02\n",
      "4  5  blobs.gif   477  85.45584  0.82081  1.56967  0.63708   0.96755      02\n"
     ]
    }
   ],
   "source": [
    "df2 = pd.read_csv('./data/Results_02.csv')\n",
    "df2['Student'] = '02'\n",
    "print(df2.head())"
   ]
  },
  {
   "cell_type": "markdown",
   "metadata": {},
   "source": [
    "Lets see if there are small differences or not"
   ]
  },
  {
   "cell_type": "code",
   "execution_count": 10,
   "metadata": {},
   "outputs": [
    {
     "name": "stdout",
     "output_type": "stream",
     "text": [
      "The mean value of Area for Student 1 is: 355.475.\n",
      "The mean value of Area for Student 2 is: 347.547.\n"
     ]
    },
    {
     "data": {
      "text/plain": [
       "array([[<AxesSubplot: title={'center': 'Area'}>]], dtype=object)"
      ]
     },
     "execution_count": 10,
     "metadata": {},
     "output_type": "execute_result"
    },
    {
     "data": {
      "image/png": "[encoded data removed]",
      "text/plain": [
       "<Figure size 640x480 with 1 Axes>"
      ]
     },
     "metadata": {},
     "output_type": "display_data"
    },
    {
     "data": {
      "image/png": "[encoded data removed]",
      "text/plain": [
       "<Figure size 640x480 with 1 Axes>"
      ]
     },
     "metadata": {},
     "output_type": "display_data"
    }
   ],
   "source": [
    "val = df1[\"Area\"].mean()\n",
    "print(f\"The mean value of Area for Student 1 is: {val:.3f}.\")\n",
    "df1.hist(column='Area')\n",
    "\n",
    "val = df2[\"Area\"].mean()\n",
    "print(f\"The mean value of Area for Student 2 is: {val:.3f}.\")\n",
    "df2.hist(column='Area')"
   ]
  },
  {
   "cell_type": "markdown",
   "metadata": {},
   "source": [
    "Now instead of keeping track of different data frames is easier if we put these tables together. This operation is called concatenation."
   ]
  },
  {
   "cell_type": "code",
   "execution_count": 11,
   "metadata": {},
   "outputs": [
    {
     "name": "stdout",
     "output_type": "stream",
     "text": [
      "            Label  Area     Perim.    Circ.       AR    Round  Solidity Student\n",
      "0    1  blobs.gif   425   90.42641  0.65314  2.06670  0.48386   0.88542      01\n",
      "1    2  blobs.gif   181   55.21320  0.74611  1.77749  0.56259   0.94517      01\n",
      "2    3  blobs.gif   656   96.52691  0.88474  1.06472  0.93921   0.96970      01\n",
      "3    4  blobs.gif   430   79.11270  0.86335  1.06156  0.94201   0.95662      01\n",
      "4    5  blobs.gif   477   86.04163  0.80968  1.56805  0.63773   0.96657      01\n",
      "5    6  blobs.gif   276   60.52691  0.94672  1.11738  0.89495   0.94845      01\n",
      "6    7  blobs.gif    70   29.79899  0.99061  1.13553  0.88065   0.90909      01\n",
      "7    8  blobs.gif   265   61.35534  0.88461  1.38821  0.72035   0.93146      01\n",
      "8    9  blobs.gif   220   54.52691  0.92985  1.12587  0.88820   0.92827      01\n",
      "9   10  blobs.gif    26   26.48528  0.46577  3.84899  0.25981   0.86667      01\n",
      "10  11  blobs.gif   492   82.08326  0.91763  1.07144  0.93333   0.94798      01\n",
      "11  12  blobs.gif   650   96.91169  0.86970  1.33339  0.74997   0.95308      01\n",
      "12  13  blobs.gif   220   54.52691  0.92985  1.13619  0.88013   0.93418      01\n",
      "13  14  blobs.gif    88   34.38478  0.93532  1.22406  0.81695   0.92147      01\n",
      "14  15  blobs.gif   441   77.84062  0.91461  1.20597  0.82920   0.94635      01\n",
      "15  16  blobs.gif   391   85.49747  0.67217  2.45579  0.40720   0.90614      01\n",
      "16  17  blobs.gif   511   83.25483  0.92643  1.17220  0.85310   0.95514      01\n",
      "17  18  blobs.gif   417   76.42641  0.89714  1.43396  0.69737   0.94989      01\n",
      "18  19  blobs.gif   257   59.11270  0.92423  1.33803  0.74737   0.95009      01\n",
      "19  20  blobs.gif   347   68.76955  0.92203  1.16649  0.85727   0.94166      01\n",
      "20  21  blobs.gif   148   44.87006  0.92376  1.18725  0.84228   0.92500      01\n",
      "21  22  blobs.gif   403   73.59798  0.93494  1.08942  0.91792   0.95047      01\n",
      "22  23  blobs.gif   413   84.42641  0.72812  1.80288  0.55467   0.87686      01\n",
      "23  24  blobs.gif   252   58.52691  0.92448  1.14850  0.87070   0.93680      01\n",
      "24  25  blobs.gif   500   87.94113  0.81245  1.66888  0.59921   0.96525      01\n",
      "25  26  blobs.gif   277   61.11270  0.93202  1.12438  0.88938   0.94863      01\n",
      "26  27  blobs.gif   667  102.08326  0.80432  1.48078  0.67532   0.92897      01\n",
      "27  28  blobs.gif   171   53.21320  0.75887  1.75976  0.56826   0.94475      01\n",
      "28  29  blobs.gif   352   68.76955  0.93532  1.21557  0.82266   0.95135      01\n",
      "29  30  blobs.gif   533   86.08326  0.90386  1.20789  0.82789   0.95179      01\n",
      "30  31  blobs.gif   598  109.63961  0.62514  2.74660  0.36409   0.85429      01\n",
      "31  32  blobs.gif   629  103.39697  0.73934  1.93744  0.51614   0.89474      01\n",
      "32  33  blobs.gif   182   49.69848  0.92597  1.15164  0.86833   0.92386      01\n",
      "33  34  blobs.gif   583   88.66905  0.93182  1.08956  0.91780   0.95574      01\n",
      "34  35  blobs.gif    14   13.89949  0.91063  1.31046  0.76309   0.84848      01\n",
      "35  36  blobs.gif   263   59.69848  0.92734  1.26047  0.79335   0.94946      01\n",
      "36  37  blobs.gif   886  129.98276  0.65898  2.51057  0.39832   0.91199      01\n",
      "37  38  blobs.gif   469   87.25483  0.77411  1.72164  0.58084   0.94177      01\n",
      "38  39  blobs.gif   231   55.94113  0.92760  1.18693  0.84251   0.93333      01\n",
      "39  40  blobs.gif   157   46.28427  0.92096  1.26314  0.79168   0.92082      01\n",
      "40  41  blobs.gif   403   75.01219  0.90002  1.36989  0.72998   0.94824      01\n",
      "41  42  blobs.gif   404   73.59798  0.93726  1.24846  0.80099   0.95735      01\n",
      "42  43  blobs.gif   234   55.69848  0.94785  1.13093  0.88423   0.94545      01\n",
      "43  44  blobs.gif   368   70.76955  0.92335  1.27705  0.78305   0.95213      01\n",
      "44  45  blobs.gif   642   93.25483  0.92769  1.11644  0.89570   0.96396      01\n",
      "45  46  blobs.gif   369   70.18377  0.94138  1.13980  0.87735   0.95226      01\n",
      "46  47  blobs.gif   566   87.84062  0.92180  1.04905  0.95325   0.95689      01\n",
      "47  48  blobs.gif    63   36.14214  0.60607  2.94685  0.33935   0.92647      01\n",
      "48  49  blobs.gif   156   45.69848  0.93871  1.26978  0.78754   0.92308      01\n",
      "49  50  blobs.gif   460   86.66905  0.76955  2.01700  0.49579   0.93401      01\n",
      "50  51  blobs.gif   600   91.39697  0.90260  1.34527  0.74334   0.95087      01\n",
      "51  52  blobs.gif   535   86.08326  0.90725  1.31821  0.75860   0.95280      01\n",
      "52  53  blobs.gif   202   62.87006  0.64220  2.22498  0.44944   0.93519      01\n",
      "53  54  blobs.gif   541   84.66905  0.94833  1.06895  0.93549   0.96007      01\n",
      "54  55  blobs.gif   848  112.91169  0.83585  1.55261  0.64408   0.95227      01\n",
      "55  56  blobs.gif   268   60.52691  0.91928  1.30449  0.76658   0.94533      01\n",
      "56  57  blobs.gif   206   52.52691  0.93824  1.27810  0.78241   0.93213      01\n",
      "57  58  blobs.gif    84   45.55635  0.50862  3.84539  0.26005   0.93855      01\n",
      "58  59  blobs.gif    74   39.55635  0.59430  3.31582  0.30158   0.93671      01\n",
      "59  60  blobs.gif    48   31.55635  0.60573  2.82144  0.35443   0.88889      01\n",
      "60  61  blobs.gif    45   32.72792  0.52794  4.13762  0.24168   0.88235      01\n",
      "0    1  blobs.gif   433   92.91169  0.63031  2.07469  0.48200   0.85998      02\n",
      "1    2  blobs.gif   185   55.21320  0.76260  1.77847  0.56228   0.95116      02\n",
      "2    3  blobs.gif   658   97.35534  0.87240  1.06829  0.93607   0.96694      02\n",
      "3    4  blobs.gif   434   78.52691  0.88443  1.06364  0.94017   0.95912      02\n",
      "4    5  blobs.gif   477   85.45584  0.82081  1.56967  0.63708   0.96755      02\n",
      "5    6  blobs.gif   285   62.18377  0.92619  1.15337  0.86703   0.93750      02\n",
      "6    7  blobs.gif    81   32.38478  0.97054  1.20425  0.83039   0.92571      02\n",
      "7    8  blobs.gif   278   63.94113  0.85446  1.38868  0.72011   0.91901      02\n",
      "8    9  blobs.gif   231   55.69848  0.93570  1.14066  0.87668   0.94094      02\n",
      "9   10  blobs.gif    30   30.48528  0.40565  4.33842  0.23050   0.86957      02\n",
      "10  11  blobs.gif   501   82.66905  0.92122  1.07476  0.93044   0.94797      02\n",
      "11  12  blobs.gif   660   98.32590  0.85786  1.33708  0.74790   0.95169      02\n",
      "12  13  blobs.gif    99   35.79899  0.97074  1.26942  0.78776   0.94286      02\n",
      "13  14  blobs.gif   228   55.69848  0.92354  1.14208  0.87560   0.94021      02\n",
      "14  15  blobs.gif   448   78.42641  0.91530  1.20734  0.82827   0.94715      02\n",
      "15  16  blobs.gif   401   87.49747  0.65821  2.49878  0.40020   0.89012      02\n",
      "16  17  blobs.gif   520   84.66905  0.91152  1.18202  0.84601   0.95151      02\n",
      "17  18  blobs.gif   425   77.84062  0.88143  1.45068  0.68933   0.95291      02\n",
      "18  19  blobs.gif   271   62.18377  0.88069  1.34761  0.74205   0.92177      02\n",
      "19  20  blobs.gif   350   68.76955  0.93001  1.16836  0.85590   0.94340      02\n",
      "20  21  blobs.gif   159   46.28427  0.93270  1.22497  0.81634   0.92982      02\n",
      "21  22  blobs.gif   412   75.59798  0.90591  1.10584  0.90429   0.94495      02\n",
      "22  23  blobs.gif   426   87.49747  0.69924  1.80993  0.55251   0.86939      02\n",
      "23  24  blobs.gif   260   59.94113  0.90935  1.15347  0.86695   0.93190      02\n",
      "24  25  blobs.gif   506   87.94113  0.82220  1.67725  0.59621   0.96106      02\n",
      "25  26  blobs.gif   289   62.76955  0.92174  1.13124  0.88398   0.93528      02\n",
      "26  27  blobs.gif   676  104.32590  0.78050  1.48251  0.67453   0.90860      02\n",
      "27  28  blobs.gif   175   53.21320  0.77662  1.76336  0.56710   0.95109      02\n",
      "28  29  blobs.gif   361   70.18377  0.92097  1.22205  0.81830   0.94503      02\n",
      "29  30  blobs.gif   545   86.91169  0.90667  1.22458  0.81661   0.94865      02\n",
      "30  31  blobs.gif   610  112.56854  0.60493  2.74836  0.36385   0.84840      02\n",
      "31  32  blobs.gif    14   12.48528  1.00000  1.01986  0.98052   0.93333      02\n",
      "32  33  blobs.gif   641  106.56854  0.70927  1.93591  0.51655   0.88414      02\n",
      "33  34  blobs.gif   195   51.11270  0.93797  1.14730  0.87161   0.92857      02\n",
      "34  35  blobs.gif   593   89.25483  0.93541  1.08955  0.91781   0.96032      02\n",
      "35  36  blobs.gif    22   17.31371  0.92226  1.46402  0.68305   0.86275      02\n",
      "36  37  blobs.gif   268   59.94113  0.93734  1.29382  0.77291   0.95374      02\n",
      "37  38  blobs.gif   902  132.22540  0.64832  2.51688  0.39732   0.90836      02\n",
      "38  39  blobs.gif   473   87.25483  0.78071  1.74310  0.57369   0.94600      02\n",
      "39  40  blobs.gif   239   57.11270  0.92075  1.21333  0.82418   0.93910      02\n",
      "40  41  blobs.gif   167   48.04163  0.90927  1.29054  0.77487   0.93296      02\n",
      "41  42  blobs.gif   413   76.76955  0.88061  1.37460  0.72748   0.95052      02\n",
      "42  43  blobs.gif   415   77.59798  0.86608  1.24613  0.80249   0.93679      02\n",
      "43  44  blobs.gif   244   57.94113  0.91333  1.13768  0.87898   0.92952      02\n",
      "44  45  blobs.gif   377   72.52691  0.90064  1.28529  0.77803   0.95202      02\n",
      "45  46  blobs.gif   652   94.42641  0.91890  1.11493  0.89692   0.96165      02\n",
      "46  47  blobs.gif   379   72.18377  0.91405  1.14859  0.87063   0.94750      02\n",
      "47  48  blobs.gif   578   89.01219  0.91672  1.05028  0.95212   0.95616      02\n",
      "48  49  blobs.gif    69   38.97056  0.57093  2.96497  0.33727   0.88462      02\n",
      "49  50  blobs.gif   170   47.69848  0.93897  1.35798  0.73639   0.93151      02\n",
      "50  51  blobs.gif   472   89.25483  0.74454  2.04163  0.48981   0.92188      02\n",
      "51  52  blobs.gif   613   94.22540  0.86763  1.35367  0.73873   0.94163      02\n",
      "52  53  blobs.gif   543   86.66905  0.90841  1.32019  0.75747   0.95347      02\n",
      "53  54  blobs.gif   204   62.87006  0.64856  2.22133  0.45018   0.93793      02\n",
      "54  55  blobs.gif   555   87.25483  0.91606  1.07320  0.93180   0.95361      02\n",
      "55  56  blobs.gif   858  113.74012  0.83343  1.56432  0.63926   0.94912      02\n",
      "56  57  blobs.gif   281   62.76955  0.89623  1.32189  0.75649   0.92739      02\n",
      "57  58  blobs.gif   215   54.52691  0.90871  1.30704  0.76509   0.92873      02\n",
      "58  59  blobs.gif     3    5.65685  1.00000  1.46385  0.68313   0.85714      02\n",
      "59  60  blobs.gif     1    2.82843  1.00000  1.00000  1.00000   1.00000      02\n",
      "60  61  blobs.gif    81   42.38478  0.56660  3.08249  0.32441   0.91011      02\n",
      "61  62  blobs.gif    90   49.55635  0.46053  4.09479  0.24421   0.93264      02\n",
      "62  63  blobs.gif    53   35.55635  0.52681  2.85939  0.34973   0.89076      02\n",
      "63  64  blobs.gif    49   36.72792  0.45647  4.27743  0.23379   0.88288      02\n"
     ]
    }
   ],
   "source": [
    "# concatenate\n",
    "df = pd.concat([df1, df2])\n",
    "print(df.to_string())"
   ]
  },
  {
   "cell_type": "markdown",
   "metadata": {},
   "source": [
    "Now let us do a basic boxplot to see if the results of both students are significantly different from one another. Here we benefit from the **Student** tag, we can ask the boxplot to sort the results based on this column value using the ```by=``` variable."
   ]
  },
  {
   "cell_type": "code",
   "execution_count": 12,
   "metadata": {},
   "outputs": [
    {
     "data": {
      "text/plain": [
       "<AxesSubplot: title={'center': 'Area'}, xlabel='Student'>"
      ]
     },
     "execution_count": 12,
     "metadata": {},
     "output_type": "execute_result"
    },
    {
     "data": {
      "image/png": "[encoded data removed]",
      "text/plain": [
       "<Figure size 640x480 with 1 Axes>"
      ]
     },
     "metadata": {},
     "output_type": "display_data"
    }
   ],
   "source": [
    "df.boxplot(column=\"Area\",by=\"Student\")"
   ]
  }
 ],
 "metadata": {
  "kernelspec": {
   "display_name": "Python 3.9.13 ('bias-env')",
   "language": "python",
   "name": "python3"
  },
  "language_info": {
   "codemirror_mode": {
    "name": "ipython",
    "version": 3
   },
   "file_extension": ".py",
   "mimetype": "text/x-python",
   "name": "python",
   "nbconvert_exporter": "python",
   "pygments_lexer": "ipython3",
   "version": "3.9.13"
  },
  "orig_nbformat": 4,
  "vscode": {
   "interpreter": {
    "hash": "a02576cc11b8a30283279cac21081ca45fa867e2bd6a6ef9b059d3b132dd7208"
   }
  }
 },
 "nbformat": 4,
 "nbformat_minor": 2
}
