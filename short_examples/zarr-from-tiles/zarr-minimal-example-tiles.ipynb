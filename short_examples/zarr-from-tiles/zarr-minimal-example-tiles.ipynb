{
 "cells": [
  {
   "attachments": {},
   "cell_type": "markdown",
   "metadata": {},
   "source": [
    "# Simple tile 2 zarr creation using centre positions\n",
    "\n",
    "**NOTE**: All tiltes have same dimentions, they have been pre stitched and there is no overlap between them. The arrangement of the tiles does not ahve to follow the clasical checkboard structure."
   ]
  },
  {
   "attachments": {},
   "cell_type": "markdown",
   "metadata": {},
   "source": [
    "## Loading centre position metadata from CVS file using pandas"
   ]
  },
  {
   "cell_type": "code",
   "execution_count": 1,
   "metadata": {},
   "outputs": [],
   "source": [
    "import pandas as pd\n",
    "from pathlib import Path"
   ]
  },
  {
   "cell_type": "code",
   "execution_count": 2,
   "metadata": {},
   "outputs": [
    {
     "data": {
      "text/html": [
       "<div>\n",
       "<style scoped>\n",
       "    .dataframe tbody tr th:only-of-type {\n",
       "        vertical-align: middle;\n",
       "    }\n",
       "\n",
       "    .dataframe tbody tr th {\n",
       "        vertical-align: top;\n",
       "    }\n",
       "\n",
       "    .dataframe thead th {\n",
       "        text-align: right;\n",
       "    }\n",
       "</style>\n",
       "<table border=\"1\" class=\"dataframe\">\n",
       "  <thead>\n",
       "    <tr style=\"text-align: right;\">\n",
       "      <th></th>\n",
       "      <th>centre_x</th>\n",
       "      <th>centre_y</th>\n",
       "    </tr>\n",
       "  </thead>\n",
       "  <tbody>\n",
       "    <tr>\n",
       "      <th>0</th>\n",
       "      <td>51</td>\n",
       "      <td>51</td>\n",
       "    </tr>\n",
       "    <tr>\n",
       "      <th>1</th>\n",
       "      <td>132</td>\n",
       "      <td>51</td>\n",
       "    </tr>\n",
       "    <tr>\n",
       "      <th>2</th>\n",
       "      <td>213</td>\n",
       "      <td>51</td>\n",
       "    </tr>\n",
       "    <tr>\n",
       "      <th>3</th>\n",
       "      <td>100</td>\n",
       "      <td>132</td>\n",
       "    </tr>\n",
       "    <tr>\n",
       "      <th>4</th>\n",
       "      <td>181</td>\n",
       "      <td>132</td>\n",
       "    </tr>\n",
       "  </tbody>\n",
       "</table>\n",
       "</div>"
      ],
      "text/plain": [
       "   centre_x  centre_y\n",
       "0        51        51\n",
       "1       132        51\n",
       "2       213        51\n",
       "3       100       132\n",
       "4       181       132"
      ]
     },
     "execution_count": 2,
     "metadata": {},
     "output_type": "execute_result"
    }
   ],
   "source": [
    "csv_p = Path(r\"./data/tile_centre.csv\")\n",
    "df = pd.read_csv(csv_p, header=None, names=[\"centre_x\", \"centre_y\"])\n",
    "df"
   ]
  },
  {
   "cell_type": "code",
   "execution_count": 3,
   "metadata": {},
   "outputs": [
    {
     "name": "stdout",
     "output_type": "stream",
     "text": [
      "we found 5 tiles\n",
      "in this example each tile is 81x81 pixels\n",
      "image should go from 11, 11 to 253, 172\n",
      "This means the full area is 254, 173 pixels\n"
     ]
    }
   ],
   "source": [
    "n_tiles = len(df.index)\n",
    "print(f\"we found {n_tiles} tiles\")\n",
    "tile_width = 81\n",
    "print(f\"in this example each tile is {tile_width}x{tile_width} pixels\")\n",
    "\n",
    "# because my width is 81 then\n",
    "min_x = df.min()[\"centre_x\"]-40\n",
    "min_y = df.min()[\"centre_y\"]-40\n",
    "max_x = df.max()[\"centre_x\"]+40\n",
    "max_y = df.max()[\"centre_y\"]+40\n",
    "\n",
    "total_x = max_x +1\n",
    "total_y = max_y +1\n",
    "\n",
    "print(f\"image should go from {min_x}, {min_y} to {max_x}, {max_y}\")\n",
    "print(f\"This means the full area is {total_x}, {total_y} pixels\")"
   ]
  },
  {
   "attachments": {},
   "cell_type": "markdown",
   "metadata": {},
   "source": [
    "## Checking tile arrangement as a figure"
   ]
  },
  {
   "cell_type": "code",
   "execution_count": 4,
   "metadata": {},
   "outputs": [],
   "source": [
    "import matplotlib.pyplot as plt\n",
    "from matplotlib.patches import Rectangle"
   ]
  },
  {
   "cell_type": "code",
   "execution_count": 5,
   "metadata": {},
   "outputs": [
    {
     "data": {
      "image/png": "[encoded data removed]",
      "text/plain": [
       "<Figure size 640x480 with 1 Axes>"
      ]
     },
     "metadata": {},
     "output_type": "display_data"
    }
   ],
   "source": [
    "#define Matplotlib figure and axis\n",
    "fig, ax = plt.subplots()\n",
    "\n",
    "#create simple line plot\n",
    "ax.scatter(df[\"centre_x\"].to_numpy(), df[\"centre_y\"].to_numpy())\n",
    "\n",
    "#add rectangle to plot\n",
    "for index, row in df.iterrows():\n",
    "    c_x = row[\"centre_x\"]\n",
    "    c_y = row[\"centre_y\"]\n",
    "    ax.add_patch(Rectangle((c_x-40, c_y-40), tile_width, tile_width,\n",
    "             edgecolor = 'red',\n",
    "             fill=False))\n",
    "\n",
    "ax.add_patch(Rectangle((0, 0), total_x, total_y,\n",
    "             edgecolor = 'blue',\n",
    "             fill=False))\n",
    "\n",
    "# axis as in image\n",
    "ax.set_ylim(ax.get_ylim()[::-1])  \n",
    "ax.xaxis.tick_top() \n",
    "ax.yaxis.tick_left()  \n",
    "\n",
    "#display plot\n",
    "plt.title(\"Tile distribution\")\n",
    "plt.show()"
   ]
  },
  {
   "attachments": {},
   "cell_type": "markdown",
   "metadata": {},
   "source": [
    "## Init ZARR array filled with zeros"
   ]
  },
  {
   "cell_type": "code",
   "execution_count": 6,
   "metadata": {},
   "outputs": [],
   "source": [
    "import zarr\n",
    "import skimage.io as skio"
   ]
  },
  {
   "cell_type": "code",
   "execution_count": 7,
   "metadata": {},
   "outputs": [],
   "source": [
    "z = zarr.zeros((total_y, total_x))\n",
    "store = zarr.DirectoryStore('./data/example01.zarr')\n",
    "z = zarr.create(store=store, overwrite=True, shape=z.shape)"
   ]
  },
  {
   "attachments": {},
   "cell_type": "markdown",
   "metadata": {},
   "source": [
    "## Dynamically fill in values"
   ]
  },
  {
   "cell_type": "code",
   "execution_count": 8,
   "metadata": {},
   "outputs": [
    {
     "name": "stderr",
     "output_type": "stream",
     "text": [
      "TiffPage 0: TypeError: read_bytes() missing 3 required positional arguments: 'dtype', 'count', and 'offsetsize'\n",
      "TiffPage 0: TypeError: read_bytes() missing 3 required positional arguments: 'dtype', 'count', and 'offsetsize'\n",
      "TiffPage 0: TypeError: read_bytes() missing 3 required positional arguments: 'dtype', 'count', and 'offsetsize'\n",
      "TiffPage 0: TypeError: read_bytes() missing 3 required positional arguments: 'dtype', 'count', and 'offsetsize'\n",
      "TiffPage 0: TypeError: read_bytes() missing 3 required positional arguments: 'dtype', 'count', and 'offsetsize'\n"
     ]
    },
    {
     "name": "stdout",
     "output_type": "stream",
     "text": [
      "0\n",
      "Tile 1  centre: 51, 51 goes to: x:[11:91], y:[11:91]\n",
      "1\n",
      "Tile 2  centre: 132, 51 goes to: x:[92:172], y:[11:91]\n",
      "2\n",
      "Tile 3  centre: 213, 51 goes to: x:[173:253], y:[11:91]\n",
      "3\n",
      "Tile 4  centre: 100, 132 goes to: x:[60:140], y:[92:172]\n",
      "4\n",
      "Tile 5  centre: 181, 132 goes to: x:[141:221], y:[92:172]\n"
     ]
    }
   ],
   "source": [
    "# as tiles are 81 x 81 then my delta is 40\n",
    "tile_d = 40\n",
    "for tile_idx, row in df.iterrows():\n",
    "  print(tile_idx)\n",
    "  tile = skio.imread(f\"./data/t0{tile_idx+1}.tif\", plugin=\"tifffile\")\n",
    "  x1 = row[\"centre_x\"]-tile_d\n",
    "  x2 = row[\"centre_x\"]+tile_d\n",
    "  y1 = row[\"centre_y\"]-tile_d\n",
    "  y2 = row[\"centre_y\"]+tile_d\n",
    "  print(f\"Tile {tile_idx+1}  centre: {row['centre_x']}, {row['centre_y']} goes to: x:[{x1}:{x2}], y:[{y1}:{y2}]\")\n",
    "  z[y1:y2+1,x1:x2+1] = tile\n",
    "  \n",
    "  "
   ]
  },
  {
   "attachments": {},
   "cell_type": "markdown",
   "metadata": {},
   "source": [
    "## Closing remarks\n",
    "\n",
    "This iamge can be now opened in Napari by drag a drop and using ```napari builtins```"
   ]
  }
 ],
 "metadata": {
  "kernelspec": {
   "display_name": "zarr-env",
   "language": "python",
   "name": "python3"
  },
  "language_info": {
   "codemirror_mode": {
    "name": "ipython",
    "version": 3
   },
   "file_extension": ".py",
   "mimetype": "text/x-python",
   "name": "python",
   "nbconvert_exporter": "python",
   "pygments_lexer": "ipython3",
   "version": "3.9.16"
  },
  "orig_nbformat": 4
 },
 "nbformat": 4,
 "nbformat_minor": 2
}
