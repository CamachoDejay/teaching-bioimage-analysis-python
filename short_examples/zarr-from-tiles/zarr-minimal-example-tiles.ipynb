{
 "cells": [
  {
   "attachments": {},
   "cell_type": "markdown",
   "metadata": {},
   "source": [
    "# Simple tile 2 zarr creation using centre positions\n",
    "\n",
    "**NOTE**: All tiltes have same dimentions, they have been pre stitched and there is no overlap between them. The arrangement of the tiles does not have to follow the clasical checkboard structure."
   ]
  },
  {
   "attachments": {},
   "cell_type": "markdown",
   "metadata": {},
   "source": [
    "## Loading centre position metadata from CVS file using pandas"
   ]
  },
  {
   "cell_type": "code",
   "execution_count": 1,
   "metadata": {},
   "outputs": [],
   "source": [
    "import pandas as pd\n",
    "from pathlib import Path\n",
    "import numpy as np\n",
    "import skimage.io as skio"
   ]
  },
  {
   "cell_type": "code",
   "execution_count": 2,
   "metadata": {},
   "outputs": [
    {
     "data": {
      "text/html": [
       "<div>\n",
       "<style scoped>\n",
       "    .dataframe tbody tr th:only-of-type {\n",
       "        vertical-align: middle;\n",
       "    }\n",
       "\n",
       "    .dataframe tbody tr th {\n",
       "        vertical-align: top;\n",
       "    }\n",
       "\n",
       "    .dataframe thead th {\n",
       "        text-align: right;\n",
       "    }\n",
       "</style>\n",
       "<table border=\"1\" class=\"dataframe\">\n",
       "  <thead>\n",
       "    <tr style=\"text-align: right;\">\n",
       "      <th></th>\n",
       "      <th>centre_x</th>\n",
       "      <th>centre_y</th>\n",
       "    </tr>\n",
       "  </thead>\n",
       "  <tbody>\n",
       "    <tr>\n",
       "      <th>0</th>\n",
       "      <td>51</td>\n",
       "      <td>51</td>\n",
       "    </tr>\n",
       "    <tr>\n",
       "      <th>1</th>\n",
       "      <td>132</td>\n",
       "      <td>51</td>\n",
       "    </tr>\n",
       "    <tr>\n",
       "      <th>2</th>\n",
       "      <td>213</td>\n",
       "      <td>51</td>\n",
       "    </tr>\n",
       "    <tr>\n",
       "      <th>3</th>\n",
       "      <td>100</td>\n",
       "      <td>132</td>\n",
       "    </tr>\n",
       "    <tr>\n",
       "      <th>4</th>\n",
       "      <td>181</td>\n",
       "      <td>132</td>\n",
       "    </tr>\n",
       "  </tbody>\n",
       "</table>\n",
       "</div>"
      ],
      "text/plain": [
       "   centre_x  centre_y\n",
       "0        51        51\n",
       "1       132        51\n",
       "2       213        51\n",
       "3       100       132\n",
       "4       181       132"
      ]
     },
     "execution_count": 2,
     "metadata": {},
     "output_type": "execute_result"
    }
   ],
   "source": [
    "csv_p = Path(r\"./data/tile_centre.csv\")\n",
    "df = pd.read_csv(csv_p, header=None, names=[\"centre_x\", \"centre_y\"])\n",
    "df"
   ]
  },
  {
   "cell_type": "code",
   "execution_count": 3,
   "metadata": {},
   "outputs": [
    {
     "name": "stderr",
     "output_type": "stream",
     "text": [
      "TiffPage 0: TypeError: read_bytes() missing 3 required positional arguments: 'dtype', 'count', and 'offsetsize'\n"
     ]
    },
    {
     "name": "stdout",
     "output_type": "stream",
     "text": [
      "there are 5 tiles in the csv file\n",
      "in this example each tile is 81x81 pixels\n"
     ]
    }
   ],
   "source": [
    "n_tiles = len(df.index)\n",
    "print(f\"there are {n_tiles} tiles in the csv file\")\n",
    "\n",
    "# reading first tile to get size, in this case we assume that the size is homogeneous\n",
    "tile_idx = 0\n",
    "tile_0 = skio.imread(f\"./data/t0{tile_idx+1}.tif\", plugin=\"tifffile\")\n",
    "\n",
    "tile_shape = tile_0.shape\n",
    "tile_type = tile_0.dtype\n",
    "print(f\"in this example each tile is {tile_shape[0]}x{tile_shape[1]} pixels\")"
   ]
  },
  {
   "attachments": {},
   "cell_type": "markdown",
   "metadata": {},
   "source": [
    "# Add corner information\n",
    "For this we need to know each tile dimention"
   ]
  },
  {
   "cell_type": "code",
   "execution_count": 4,
   "metadata": {},
   "outputs": [
    {
     "data": {
      "text/html": [
       "<div>\n",
       "<style scoped>\n",
       "    .dataframe tbody tr th:only-of-type {\n",
       "        vertical-align: middle;\n",
       "    }\n",
       "\n",
       "    .dataframe tbody tr th {\n",
       "        vertical-align: top;\n",
       "    }\n",
       "\n",
       "    .dataframe thead th {\n",
       "        text-align: right;\n",
       "    }\n",
       "</style>\n",
       "<table border=\"1\" class=\"dataframe\">\n",
       "  <thead>\n",
       "    <tr style=\"text-align: right;\">\n",
       "      <th></th>\n",
       "      <th>centre_x</th>\n",
       "      <th>centre_y</th>\n",
       "      <th>size_x</th>\n",
       "      <th>size_y</th>\n",
       "    </tr>\n",
       "  </thead>\n",
       "  <tbody>\n",
       "    <tr>\n",
       "      <th>0</th>\n",
       "      <td>51</td>\n",
       "      <td>51</td>\n",
       "      <td>81</td>\n",
       "      <td>81</td>\n",
       "    </tr>\n",
       "    <tr>\n",
       "      <th>1</th>\n",
       "      <td>132</td>\n",
       "      <td>51</td>\n",
       "      <td>81</td>\n",
       "      <td>81</td>\n",
       "    </tr>\n",
       "    <tr>\n",
       "      <th>2</th>\n",
       "      <td>213</td>\n",
       "      <td>51</td>\n",
       "      <td>81</td>\n",
       "      <td>81</td>\n",
       "    </tr>\n",
       "    <tr>\n",
       "      <th>3</th>\n",
       "      <td>100</td>\n",
       "      <td>132</td>\n",
       "      <td>81</td>\n",
       "      <td>81</td>\n",
       "    </tr>\n",
       "    <tr>\n",
       "      <th>4</th>\n",
       "      <td>181</td>\n",
       "      <td>132</td>\n",
       "      <td>81</td>\n",
       "      <td>81</td>\n",
       "    </tr>\n",
       "  </tbody>\n",
       "</table>\n",
       "</div>"
      ],
      "text/plain": [
       "   centre_x  centre_y  size_x  size_y\n",
       "0        51        51      81      81\n",
       "1       132        51      81      81\n",
       "2       213        51      81      81\n",
       "3       100       132      81      81\n",
       "4       181       132      81      81"
      ]
     },
     "execution_count": 4,
     "metadata": {},
     "output_type": "execute_result"
    }
   ],
   "source": [
    "df['size_x'] = tile_shape[0]\n",
    "df['size_y'] = tile_shape[1]\n",
    "df"
   ]
  },
  {
   "cell_type": "code",
   "execution_count": 5,
   "metadata": {},
   "outputs": [
    {
     "data": {
      "text/html": [
       "<div>\n",
       "<style scoped>\n",
       "    .dataframe tbody tr th:only-of-type {\n",
       "        vertical-align: middle;\n",
       "    }\n",
       "\n",
       "    .dataframe tbody tr th {\n",
       "        vertical-align: top;\n",
       "    }\n",
       "\n",
       "    .dataframe thead th {\n",
       "        text-align: right;\n",
       "    }\n",
       "</style>\n",
       "<table border=\"1\" class=\"dataframe\">\n",
       "  <thead>\n",
       "    <tr style=\"text-align: right;\">\n",
       "      <th></th>\n",
       "      <th>centre_x</th>\n",
       "      <th>centre_y</th>\n",
       "      <th>size_x</th>\n",
       "      <th>size_y</th>\n",
       "      <th>corner_x</th>\n",
       "      <th>corner_y</th>\n",
       "    </tr>\n",
       "  </thead>\n",
       "  <tbody>\n",
       "    <tr>\n",
       "      <th>0</th>\n",
       "      <td>51</td>\n",
       "      <td>51</td>\n",
       "      <td>81</td>\n",
       "      <td>81</td>\n",
       "      <td>10</td>\n",
       "      <td>10</td>\n",
       "    </tr>\n",
       "    <tr>\n",
       "      <th>1</th>\n",
       "      <td>132</td>\n",
       "      <td>51</td>\n",
       "      <td>81</td>\n",
       "      <td>81</td>\n",
       "      <td>91</td>\n",
       "      <td>10</td>\n",
       "    </tr>\n",
       "    <tr>\n",
       "      <th>2</th>\n",
       "      <td>213</td>\n",
       "      <td>51</td>\n",
       "      <td>81</td>\n",
       "      <td>81</td>\n",
       "      <td>172</td>\n",
       "      <td>10</td>\n",
       "    </tr>\n",
       "    <tr>\n",
       "      <th>3</th>\n",
       "      <td>100</td>\n",
       "      <td>132</td>\n",
       "      <td>81</td>\n",
       "      <td>81</td>\n",
       "      <td>59</td>\n",
       "      <td>91</td>\n",
       "    </tr>\n",
       "    <tr>\n",
       "      <th>4</th>\n",
       "      <td>181</td>\n",
       "      <td>132</td>\n",
       "      <td>81</td>\n",
       "      <td>81</td>\n",
       "      <td>140</td>\n",
       "      <td>91</td>\n",
       "    </tr>\n",
       "  </tbody>\n",
       "</table>\n",
       "</div>"
      ],
      "text/plain": [
       "   centre_x  centre_y  size_x  size_y  corner_x  corner_y\n",
       "0        51        51      81      81        10        10\n",
       "1       132        51      81      81        91        10\n",
       "2       213        51      81      81       172        10\n",
       "3       100       132      81      81        59        91\n",
       "4       181       132      81      81       140        91"
      ]
     },
     "execution_count": 5,
     "metadata": {},
     "output_type": "execute_result"
    }
   ],
   "source": [
    "def simple_shift(val, shift):\n",
    "    # simple helper function\n",
    "    return val-shift\n",
    "\n",
    "df['corner_x'] = df.apply(lambda x: int(x['centre_x']- x['size_x']/2), axis=1)\n",
    "df['corner_y'] = df.apply(lambda x: int(x['centre_y']- x['size_y']/2), axis=1)\n",
    "\n",
    "df"
   ]
  },
  {
   "attachments": {},
   "cell_type": "markdown",
   "metadata": {},
   "source": [
    "# Translation of the image to 0,0\n",
    "We do not want to have a large empty area."
   ]
  },
  {
   "cell_type": "code",
   "execution_count": 6,
   "metadata": {},
   "outputs": [],
   "source": [
    "def translation00(df):\n",
    "    # simple helper function that translates the array to 0,0\n",
    "    df00 = df.copy()\n",
    "    min_x = df.min()[\"corner_x\"]\n",
    "    min_y = df.min()[\"corner_y\"]\n",
    "\n",
    "    df00['corner_x'] = df00.apply(lambda x: x[\"corner_x\"] - min_x, axis=1)\n",
    "    df00['centre_x'] = df00.apply(lambda x: x[\"centre_x\"] - min_x, axis=1)\n",
    "    df00['corner_y'] = df00.apply(lambda x: x[\"corner_y\"] - min_y, axis=1)\n",
    "    df00['centre_y'] = df00.apply(lambda x: x[\"centre_y\"] - min_y, axis=1)\n",
    "\n",
    "    return df00"
   ]
  },
  {
   "cell_type": "code",
   "execution_count": 7,
   "metadata": {},
   "outputs": [
    {
     "data": {
      "text/html": [
       "<div>\n",
       "<style scoped>\n",
       "    .dataframe tbody tr th:only-of-type {\n",
       "        vertical-align: middle;\n",
       "    }\n",
       "\n",
       "    .dataframe tbody tr th {\n",
       "        vertical-align: top;\n",
       "    }\n",
       "\n",
       "    .dataframe thead th {\n",
       "        text-align: right;\n",
       "    }\n",
       "</style>\n",
       "<table border=\"1\" class=\"dataframe\">\n",
       "  <thead>\n",
       "    <tr style=\"text-align: right;\">\n",
       "      <th></th>\n",
       "      <th>centre_x</th>\n",
       "      <th>centre_y</th>\n",
       "      <th>size_x</th>\n",
       "      <th>size_y</th>\n",
       "      <th>corner_x</th>\n",
       "      <th>corner_y</th>\n",
       "    </tr>\n",
       "  </thead>\n",
       "  <tbody>\n",
       "    <tr>\n",
       "      <th>0</th>\n",
       "      <td>41</td>\n",
       "      <td>41</td>\n",
       "      <td>81</td>\n",
       "      <td>81</td>\n",
       "      <td>0</td>\n",
       "      <td>0</td>\n",
       "    </tr>\n",
       "    <tr>\n",
       "      <th>1</th>\n",
       "      <td>122</td>\n",
       "      <td>41</td>\n",
       "      <td>81</td>\n",
       "      <td>81</td>\n",
       "      <td>81</td>\n",
       "      <td>0</td>\n",
       "    </tr>\n",
       "    <tr>\n",
       "      <th>2</th>\n",
       "      <td>203</td>\n",
       "      <td>41</td>\n",
       "      <td>81</td>\n",
       "      <td>81</td>\n",
       "      <td>162</td>\n",
       "      <td>0</td>\n",
       "    </tr>\n",
       "    <tr>\n",
       "      <th>3</th>\n",
       "      <td>90</td>\n",
       "      <td>122</td>\n",
       "      <td>81</td>\n",
       "      <td>81</td>\n",
       "      <td>49</td>\n",
       "      <td>81</td>\n",
       "    </tr>\n",
       "    <tr>\n",
       "      <th>4</th>\n",
       "      <td>171</td>\n",
       "      <td>122</td>\n",
       "      <td>81</td>\n",
       "      <td>81</td>\n",
       "      <td>130</td>\n",
       "      <td>81</td>\n",
       "    </tr>\n",
       "  </tbody>\n",
       "</table>\n",
       "</div>"
      ],
      "text/plain": [
       "   centre_x  centre_y  size_x  size_y  corner_x  corner_y\n",
       "0        41        41      81      81         0         0\n",
       "1       122        41      81      81        81         0\n",
       "2       203        41      81      81       162         0\n",
       "3        90       122      81      81        49        81\n",
       "4       171       122      81      81       130        81"
      ]
     },
     "execution_count": 7,
     "metadata": {},
     "output_type": "execute_result"
    }
   ],
   "source": [
    "df00 = translation00(df)\n",
    "df00"
   ]
  },
  {
   "attachments": {},
   "cell_type": "markdown",
   "metadata": {},
   "source": [
    "## Check size of array \n",
    "This is to make it compatible with downscaling later own"
   ]
  },
  {
   "cell_type": "code",
   "execution_count": 8,
   "metadata": {},
   "outputs": [],
   "source": [
    "def optimal_size(current_size, res_levels):\n",
    "    # helper function that asses the best size given the desired resolution level\n",
    "    \n",
    "    div_factor = np.power(2,res_levels)\n",
    "    rem = np.remainder(current_size, div_factor)\n",
    "\n",
    "    print(f'current size: {current_size}, factor: {div_factor}, reminder: {rem}')\n",
    "\n",
    "    if rem > 0:\n",
    "        extra = div_factor-rem\n",
    "    else:\n",
    "        extra = 0\n",
    "\n",
    "    print(f'we need to add: {extra}, so new size is: {current_size+extra}')\n",
    "\n",
    "    return current_size+extra\n"
   ]
  },
  {
   "cell_type": "code",
   "execution_count": 9,
   "metadata": {},
   "outputs": [
    {
     "name": "stdout",
     "output_type": "stream",
     "text": [
      "current size: 243, factor: 2, reminder: 1\n",
      "we need to add: 1, so new size is: 244\n",
      "current size: 162, factor: 2, reminder: 0\n",
      "we need to add: 0, so new size is: 162\n"
     ]
    }
   ],
   "source": [
    "x_size_tmp = (df00['corner_x']+df00[\"size_x\"]).max()\n",
    "total_x = int(optimal_size(x_size_tmp, 1))\n",
    "\n",
    "y_size_tmp = (df00['corner_y']+df00[\"size_y\"]).max()\n",
    "total_y = int(optimal_size(y_size_tmp, 1))\n"
   ]
  },
  {
   "cell_type": "code",
   "execution_count": 10,
   "metadata": {},
   "outputs": [],
   "source": [
    "import matplotlib.pyplot as plt\n",
    "from matplotlib.patches import Rectangle"
   ]
  },
  {
   "cell_type": "code",
   "execution_count": 11,
   "metadata": {},
   "outputs": [
    {
     "data": {
      "image/png": "[encoded data removed]",
      "text/plain": [
       "<Figure size 640x480 with 1 Axes>"
      ]
     },
     "metadata": {},
     "output_type": "display_data"
    }
   ],
   "source": [
    "#define Matplotlib figure and axis\n",
    "fig, ax = plt.subplots()\n",
    "\n",
    "#create simple line plot\n",
    "ax.scatter(df00[\"centre_x\"].to_numpy(), df00[\"centre_y\"].to_numpy())\n",
    "\n",
    "#add rectangle to plot\n",
    "for index, row in df00.iterrows():\n",
    "    c_x = row[\"corner_x\"]\n",
    "    c_y = row[\"corner_y\"]\n",
    "    \n",
    "    ax.add_patch(Rectangle((c_x, c_y), row[\"size_x\"], row[\"size_y\"],\n",
    "             edgecolor = 'red',\n",
    "             fill=False))\n",
    "\n",
    "ax.add_patch(Rectangle((0, 0), total_x, total_y,\n",
    "             edgecolor = 'blue',\n",
    "             fill=False))\n",
    "\n",
    "# axis as in image\n",
    "ax.set_ylim(ax.get_ylim()[::-1])  \n",
    "ax.xaxis.tick_top() \n",
    "ax.yaxis.tick_left()  \n",
    "\n",
    "#display plot\n",
    "plt.title(\"Tile distribution\")\n",
    "plt.show()"
   ]
  },
  {
   "attachments": {},
   "cell_type": "markdown",
   "metadata": {},
   "source": [
    "## ZARR array"
   ]
  },
  {
   "cell_type": "code",
   "execution_count": 12,
   "metadata": {},
   "outputs": [],
   "source": [
    "import zarr"
   ]
  },
  {
   "cell_type": "code",
   "execution_count": 13,
   "metadata": {},
   "outputs": [
    {
     "name": "stdout",
     "output_type": "stream",
     "text": [
      "Chunk size: 81,81\n"
     ]
    },
    {
     "data": {
      "text/plain": [
       "<zarr.core.Array (162, 244) uint8>"
      ]
     },
     "execution_count": 13,
     "metadata": {},
     "output_type": "execute_result"
    }
   ],
   "source": [
    "store = zarr.DirectoryStore('./data/basic-array.zarr')\n",
    "chunk_size = np.max(tile_shape)\n",
    "print(f'Chunk size: {chunk_size},{chunk_size}')\n",
    "z = zarr.creation.open_array(store=store, mode='a', shape=(total_y, total_x), chunks=(chunk_size,chunk_size), dtype=tile_type)\n",
    "z"
   ]
  },
  {
   "attachments": {},
   "cell_type": "markdown",
   "metadata": {},
   "source": [
    "## Dynamically fill in values"
   ]
  },
  {
   "cell_type": "code",
   "execution_count": 14,
   "metadata": {},
   "outputs": [
    {
     "name": "stderr",
     "output_type": "stream",
     "text": [
      "TiffPage 0: TypeError: read_bytes() missing 3 required positional arguments: 'dtype', 'count', and 'offsetsize'\n",
      "TiffPage 0: TypeError: read_bytes() missing 3 required positional arguments: 'dtype', 'count', and 'offsetsize'\n",
      "TiffPage 0: TypeError: read_bytes() missing 3 required positional arguments: 'dtype', 'count', and 'offsetsize'\n",
      "TiffPage 0: TypeError: read_bytes() missing 3 required positional arguments: 'dtype', 'count', and 'offsetsize'\n",
      "TiffPage 0: TypeError: read_bytes() missing 3 required positional arguments: 'dtype', 'count', and 'offsetsize'\n"
     ]
    },
    {
     "name": "stdout",
     "output_type": "stream",
     "text": [
      "0\n",
      "Tile 1  centre: 41, 41 goes to: x:[0:81], y:[0:81]\n",
      "1\n",
      "Tile 2  centre: 122, 41 goes to: x:[81:162], y:[0:81]\n",
      "2\n",
      "Tile 3  centre: 203, 41 goes to: x:[162:243], y:[0:81]\n",
      "3\n",
      "Tile 4  centre: 90, 122 goes to: x:[49:130], y:[81:162]\n",
      "4\n",
      "Tile 5  centre: 171, 122 goes to: x:[130:211], y:[81:162]\n"
     ]
    }
   ],
   "source": [
    "for tile_idx, row in df00.iterrows():\n",
    "  print(tile_idx)\n",
    "  tile = skio.imread(f\"./data/t0{tile_idx+1}.tif\", plugin=\"tifffile\")\n",
    "  x1 = row[\"corner_x\"]\n",
    "  x2 = x1+row[\"size_x\"]\n",
    "  y1 = row[\"corner_y\"]\n",
    "  y2 = y1+row[\"size_y\"]\n",
    "  \n",
    "  print(f\"Tile {tile_idx+1}  centre: {row['centre_x']}, {row['centre_y']} goes to: x:[{x1}:{x2}], y:[{y1}:{y2}]\")\n",
    "  z[y1:y2,x1:x2] = tile\n",
    "  \n",
    "  "
   ]
  },
  {
   "attachments": {},
   "cell_type": "markdown",
   "metadata": {},
   "source": [
    "## To open in napari\n",
    "\n",
    "This iamge can be now opened in Napari by drag a drop and using ```napari builtins```\n",
    "\n",
    "## Changing now to ome-zarr\n",
    "\n",
    "However, I want to add ome-zarr support. For that I need some minimal metadata, and optionally some resolution levels\n",
    "\n",
    "For downsampling I will use ```dask-array``` as suggested in [this discussion](https://forum.image.sc/t/creating-an-ome-zarr-dynamically-from-tiles-stored-as-a-series-of-images-list-of-centre-positions-using-python/81657/12?u=camachodejay) "
   ]
  },
  {
   "cell_type": "code",
   "execution_count": 15,
   "metadata": {},
   "outputs": [],
   "source": [
    "import dask.array as da"
   ]
  },
  {
   "cell_type": "code",
   "execution_count": 16,
   "metadata": {},
   "outputs": [],
   "source": [
    "# like numpy.mean, but maintains dtype, helper function\n",
    "def mean_dtype(arr, **kwargs):\n",
    "    return np.mean(arr, **kwargs).astype(arr.dtype)"
   ]
  },
  {
   "cell_type": "code",
   "execution_count": 17,
   "metadata": {},
   "outputs": [
    {
     "data": {
      "text/html": [
       "<table>\n",
       "    <tr>\n",
       "        <td>\n",
       "            <table style=\"border-collapse: collapse;\">\n",
       "                <thead>\n",
       "                    <tr>\n",
       "                        <td> </td>\n",
       "                        <th> Array </th>\n",
       "                        <th> Chunk </th>\n",
       "                    </tr>\n",
       "                </thead>\n",
       "                <tbody>\n",
       "                    \n",
       "                    <tr>\n",
       "                        <th> Bytes </th>\n",
       "                        <td> 38.60 kiB </td>\n",
       "                        <td> 6.25 kiB </td>\n",
       "                    </tr>\n",
       "                    \n",
       "                    <tr>\n",
       "                        <th> Shape </th>\n",
       "                        <td> (162, 244) </td>\n",
       "                        <td> (80, 80) </td>\n",
       "                    </tr>\n",
       "                    <tr>\n",
       "                        <th> Dask graph </th>\n",
       "                        <td colspan=\"2\"> 12 chunks in 3 graph layers </td>\n",
       "                    </tr>\n",
       "                    <tr>\n",
       "                        <th> Data type </th>\n",
       "                        <td colspan=\"2\"> uint8 numpy.ndarray </td>\n",
       "                    </tr>\n",
       "                </tbody>\n",
       "            </table>\n",
       "        </td>\n",
       "        <td>\n",
       "        <svg width=\"170\" height=\"129\" style=\"stroke:rgb(0,0,0);stroke-width:1\" >\n",
       "\n",
       "  <!-- Horizontal lines -->\n",
       "  <line x1=\"0\" y1=\"0\" x2=\"120\" y2=\"0\" style=\"stroke-width:2\" />\n",
       "  <line x1=\"0\" y1=\"39\" x2=\"120\" y2=\"39\" />\n",
       "  <line x1=\"0\" y1=\"78\" x2=\"120\" y2=\"78\" />\n",
       "  <line x1=\"0\" y1=\"79\" x2=\"120\" y2=\"79\" style=\"stroke-width:2\" />\n",
       "\n",
       "  <!-- Vertical lines -->\n",
       "  <line x1=\"0\" y1=\"0\" x2=\"0\" y2=\"79\" style=\"stroke-width:2\" />\n",
       "  <line x1=\"39\" y1=\"0\" x2=\"39\" y2=\"79\" />\n",
       "  <line x1=\"78\" y1=\"0\" x2=\"78\" y2=\"79\" />\n",
       "  <line x1=\"118\" y1=\"0\" x2=\"118\" y2=\"79\" />\n",
       "  <line x1=\"120\" y1=\"0\" x2=\"120\" y2=\"79\" style=\"stroke-width:2\" />\n",
       "\n",
       "  <!-- Colored Rectangle -->\n",
       "  <polygon points=\"0.0,0.0 120.0,0.0 120.0,79.67213114754098 0.0,79.67213114754098\" style=\"fill:#ECB172A0;stroke-width:0\"/>\n",
       "\n",
       "  <!-- Text -->\n",
       "  <text x=\"60.000000\" y=\"99.672131\" font-size=\"1.0rem\" font-weight=\"100\" text-anchor=\"middle\" >244</text>\n",
       "  <text x=\"140.000000\" y=\"39.836066\" font-size=\"1.0rem\" font-weight=\"100\" text-anchor=\"middle\" transform=\"rotate(-90,140.000000,39.836066)\">162</text>\n",
       "</svg>\n",
       "        </td>\n",
       "    </tr>\n",
       "</table>"
      ],
      "text/plain": [
       "dask.array<rechunk-merge, shape=(162, 244), dtype=uint8, chunksize=(80, 80), chunktype=numpy.ndarray>"
      ]
     },
     "execution_count": 17,
     "metadata": {},
     "output_type": "execute_result"
    }
   ],
   "source": [
    "# it is still not quite clear to me why, but we need to rechunk de data at this stage\n",
    "# if not zarr writting later on will fail\n",
    "d0 = da.from_zarr(store).rechunk(80,80)\n",
    "d0"
   ]
  },
  {
   "cell_type": "code",
   "execution_count": 18,
   "metadata": {},
   "outputs": [
    {
     "data": {
      "text/html": [
       "<table>\n",
       "    <tr>\n",
       "        <td>\n",
       "            <table style=\"border-collapse: collapse;\">\n",
       "                <thead>\n",
       "                    <tr>\n",
       "                        <td> </td>\n",
       "                        <th> Array </th>\n",
       "                        <th> Chunk </th>\n",
       "                    </tr>\n",
       "                </thead>\n",
       "                <tbody>\n",
       "                    \n",
       "                    <tr>\n",
       "                        <th> Bytes </th>\n",
       "                        <td> 9.65 kiB </td>\n",
       "                        <td> 1.56 kiB </td>\n",
       "                    </tr>\n",
       "                    \n",
       "                    <tr>\n",
       "                        <th> Shape </th>\n",
       "                        <td> (81, 122) </td>\n",
       "                        <td> (40, 40) </td>\n",
       "                    </tr>\n",
       "                    <tr>\n",
       "                        <th> Dask graph </th>\n",
       "                        <td colspan=\"2\"> 12 chunks in 4 graph layers </td>\n",
       "                    </tr>\n",
       "                    <tr>\n",
       "                        <th> Data type </th>\n",
       "                        <td colspan=\"2\"> uint8 numpy.ndarray </td>\n",
       "                    </tr>\n",
       "                </tbody>\n",
       "            </table>\n",
       "        </td>\n",
       "        <td>\n",
       "        <svg width=\"170\" height=\"129\" style=\"stroke:rgb(0,0,0);stroke-width:1\" >\n",
       "\n",
       "  <!-- Horizontal lines -->\n",
       "  <line x1=\"0\" y1=\"0\" x2=\"120\" y2=\"0\" style=\"stroke-width:2\" />\n",
       "  <line x1=\"0\" y1=\"39\" x2=\"120\" y2=\"39\" />\n",
       "  <line x1=\"0\" y1=\"78\" x2=\"120\" y2=\"78\" />\n",
       "  <line x1=\"0\" y1=\"79\" x2=\"120\" y2=\"79\" style=\"stroke-width:2\" />\n",
       "\n",
       "  <!-- Vertical lines -->\n",
       "  <line x1=\"0\" y1=\"0\" x2=\"0\" y2=\"79\" style=\"stroke-width:2\" />\n",
       "  <line x1=\"39\" y1=\"0\" x2=\"39\" y2=\"79\" />\n",
       "  <line x1=\"78\" y1=\"0\" x2=\"78\" y2=\"79\" />\n",
       "  <line x1=\"118\" y1=\"0\" x2=\"118\" y2=\"79\" />\n",
       "  <line x1=\"120\" y1=\"0\" x2=\"120\" y2=\"79\" style=\"stroke-width:2\" />\n",
       "\n",
       "  <!-- Colored Rectangle -->\n",
       "  <polygon points=\"0.0,0.0 120.0,0.0 120.0,79.67213114754098 0.0,79.67213114754098\" style=\"fill:#ECB172A0;stroke-width:0\"/>\n",
       "\n",
       "  <!-- Text -->\n",
       "  <text x=\"60.000000\" y=\"99.672131\" font-size=\"1.0rem\" font-weight=\"100\" text-anchor=\"middle\" >122</text>\n",
       "  <text x=\"140.000000\" y=\"39.836066\" font-size=\"1.0rem\" font-weight=\"100\" text-anchor=\"middle\" transform=\"rotate(0,140.000000,39.836066)\">81</text>\n",
       "</svg>\n",
       "        </td>\n",
       "    </tr>\n",
       "</table>"
      ],
      "text/plain": [
       "dask.array<coarsen, shape=(81, 122), dtype=uint8, chunksize=(40, 40), chunktype=numpy.ndarray>"
      ]
     },
     "execution_count": 18,
     "metadata": {},
     "output_type": "execute_result"
    }
   ],
   "source": [
    "d1 = da.coarsen(mean_dtype, d0, {0:2,1:2}).rechunk(40,40)\n",
    "d1"
   ]
  },
  {
   "cell_type": "code",
   "execution_count": 19,
   "metadata": {},
   "outputs": [],
   "source": [
    "from ome_zarr.io import parse_url\n",
    "from ome_zarr.writer import write_multiscale\n",
    "from ome_zarr.writer import write_multiscales_metadata"
   ]
  },
  {
   "cell_type": "code",
   "execution_count": 20,
   "metadata": {},
   "outputs": [],
   "source": [
    "# I can probably build this programmatically, for the moment I take a shortcut. \n",
    "# This assumes an image with full resolution and one downscale by 2x2\n",
    "coordtfs = [\n",
    "        [{'type': 'scale', 'scale': [1,1]},\n",
    "         {'type': 'translation', 'translation': [0, 0]}],\n",
    "        [{'type': 'scale', 'scale': [2,2]},\n",
    "         {'type': 'translation', 'translation': [0, 0]}],\n",
    "        ]\n",
    "axes = [{'name': 'y', 'type': 'space', 'unit': 'micrometer'},\n",
    "        {'name': 'x', 'type': 'space', 'unit': 'micrometer'}]"
   ]
  },
  {
   "cell_type": "code",
   "execution_count": 21,
   "metadata": {},
   "outputs": [
    {
     "data": {
      "text/plain": [
       "[]"
      ]
     },
     "execution_count": 21,
     "metadata": {},
     "output_type": "execute_result"
    }
   ],
   "source": [
    "# Open the zarr group manually\n",
    "path = './data/ome-example.zarr'\n",
    "store = parse_url(path, mode='w').store\n",
    "root = zarr.group(store=store)\n",
    "\n",
    "# Use OME write multiscale; this actually computes the dask arrays but does so\n",
    "# in a memory-efficient way. ❤️ 🚀\n",
    "write_multiscale([d0, d1],\n",
    "        group=root, axes=axes, coordinate_transformations=coordtfs\n",
    "        )"
   ]
  },
  {
   "cell_type": "code",
   "execution_count": 22,
   "metadata": {},
   "outputs": [],
   "source": [
    "# add omero metadata: the napari ome-zarr plugin uses this to pass rendering\n",
    "# options to napari.\n",
    "root.attrs['omero'] = {\n",
    "        'channels': [{\n",
    "                'color': 'ffffff',\n",
    "                'label': 'blobs',\n",
    "                'active': True,\n",
    "                }]\n",
    "        }\n"
   ]
  },
  {
   "attachments": {},
   "cell_type": "markdown",
   "metadata": {},
   "source": [
    "## Open in napari using ome-zarr\n",
    "\n",
    "Now the date is good for opening in napari using the ```napari-ome-zarr``` plugin: https://github.com/ome/napari-ome-zarr\n"
   ]
  }
 ],
 "metadata": {
  "kernelspec": {
   "display_name": "zarr-env",
   "language": "python",
   "name": "python3"
  },
  "language_info": {
   "codemirror_mode": {
    "name": "ipython",
    "version": 3
   },
   "file_extension": ".py",
   "mimetype": "text/x-python",
   "name": "python",
   "nbconvert_exporter": "python",
   "pygments_lexer": "ipython3",
   "version": "3.9.16"
  },
  "orig_nbformat": 4
 },
 "nbformat": 4,
 "nbformat_minor": 2
}
