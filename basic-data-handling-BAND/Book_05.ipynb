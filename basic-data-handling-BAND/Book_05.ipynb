{
 "cells": [
  {
   "cell_type": "markdown",
   "metadata": {},
   "source": [
    "# Book 5: Statistical tests using Pandas and Scipy\n",
    "\n",
    "Here we will go over how to use ```pandas``` to read several ```.csv``` files, **concatenate** them into a single table, and then use ```scipy``` for statistical tests.\n",
    "\n",
    "## Load the data\n",
    "Let us use what we learned before to load the ```.csv``` table into a data frame"
   ]
  },
  {
   "cell_type": "code",
   "execution_count": 2,
   "metadata": {},
   "outputs": [
    {
     "data": {
      "text/html": [
       "<div>\n",
       "<style scoped>\n",
       "    .dataframe tbody tr th:only-of-type {\n",
       "        vertical-align: middle;\n",
       "    }\n",
       "\n",
       "    .dataframe tbody tr th {\n",
       "        vertical-align: top;\n",
       "    }\n",
       "\n",
       "    .dataframe thead th {\n",
       "        text-align: right;\n",
       "    }\n",
       "</style>\n",
       "<table border=\"1\" class=\"dataframe\">\n",
       "  <thead>\n",
       "    <tr style=\"text-align: right;\">\n",
       "      <th></th>\n",
       "      <th>Label</th>\n",
       "      <th>Area</th>\n",
       "      <th>Perim.</th>\n",
       "      <th>Circ.</th>\n",
       "      <th>AR</th>\n",
       "      <th>Round</th>\n",
       "      <th>Solidity</th>\n",
       "      <th>Student</th>\n",
       "    </tr>\n",
       "  </thead>\n",
       "  <tbody>\n",
       "    <tr>\n",
       "      <th>20</th>\n",
       "      <td>blobs.gif</td>\n",
       "      <td>148</td>\n",
       "      <td>44.87006</td>\n",
       "      <td>0.92376</td>\n",
       "      <td>1.18725</td>\n",
       "      <td>0.84228</td>\n",
       "      <td>0.92500</td>\n",
       "      <td>01</td>\n",
       "    </tr>\n",
       "    <tr>\n",
       "      <th>101</th>\n",
       "      <td>blobs.gif</td>\n",
       "      <td>167</td>\n",
       "      <td>48.04163</td>\n",
       "      <td>0.90927</td>\n",
       "      <td>1.29054</td>\n",
       "      <td>0.77487</td>\n",
       "      <td>0.93296</td>\n",
       "      <td>02</td>\n",
       "    </tr>\n",
       "    <tr>\n",
       "      <th>13</th>\n",
       "      <td>blobs.gif</td>\n",
       "      <td>88</td>\n",
       "      <td>34.38478</td>\n",
       "      <td>0.93532</td>\n",
       "      <td>1.22406</td>\n",
       "      <td>0.81695</td>\n",
       "      <td>0.92147</td>\n",
       "      <td>01</td>\n",
       "    </tr>\n",
       "    <tr>\n",
       "      <th>29</th>\n",
       "      <td>blobs.gif</td>\n",
       "      <td>533</td>\n",
       "      <td>86.08326</td>\n",
       "      <td>0.90386</td>\n",
       "      <td>1.20789</td>\n",
       "      <td>0.82789</td>\n",
       "      <td>0.95179</td>\n",
       "      <td>01</td>\n",
       "    </tr>\n",
       "    <tr>\n",
       "      <th>75</th>\n",
       "      <td>blobs.gif</td>\n",
       "      <td>448</td>\n",
       "      <td>78.42641</td>\n",
       "      <td>0.91530</td>\n",
       "      <td>1.20734</td>\n",
       "      <td>0.82827</td>\n",
       "      <td>0.94715</td>\n",
       "      <td>02</td>\n",
       "    </tr>\n",
       "  </tbody>\n",
       "</table>\n",
       "</div>"
      ],
      "text/plain": [
       "         Label  Area    Perim.    Circ.       AR    Round  Solidity Student\n",
       "20   blobs.gif   148  44.87006  0.92376  1.18725  0.84228   0.92500      01\n",
       "101  blobs.gif   167  48.04163  0.90927  1.29054  0.77487   0.93296      02\n",
       "13   blobs.gif    88  34.38478  0.93532  1.22406  0.81695   0.92147      01\n",
       "29   blobs.gif   533  86.08326  0.90386  1.20789  0.82789   0.95179      01\n",
       "75   blobs.gif   448  78.42641  0.91530  1.20734  0.82827   0.94715      02"
      ]
     },
     "execution_count": 2,
     "metadata": {},
     "output_type": "execute_result"
    }
   ],
   "source": [
    "import pandas as pd\n",
    "\n",
    "df1 = pd.read_csv('./data/Results_01.csv')\n",
    "df1['Student'] = '01'\n",
    "\n",
    "df2 = pd.read_csv('./data/Results_02.csv')\n",
    "df2['Student'] = '02'\n",
    "\n",
    "# concatenate\n",
    "df = pd.concat([df1, df2])\n",
    "df.reset_index(drop=True, inplace=True)\n",
    "df.drop(' ', axis=1, inplace=True)\n",
    "df.sample(5)"
   ]
  },
  {
   "cell_type": "code",
   "execution_count": 3,
   "metadata": {},
   "outputs": [
    {
     "data": {
      "text/plain": [
       "<Axes: title={'center': 'Area'}, xlabel='Student'>"
      ]
     },
     "execution_count": 3,
     "metadata": {},
     "output_type": "execute_result"
    },
    {
     "data": {
      "image/png": "[encoded data removed]",
      "text/plain": [
       "<Figure size 640x480 with 1 Axes>"
      ]
     },
     "metadata": {},
     "output_type": "display_data"
    }
   ],
   "source": [
    "# simple box plot, to vissualy inspect if there are big differences between both groups\n",
    "df.boxplot(column=\"Area\",by=\"Student\")"
   ]
  },
  {
   "cell_type": "markdown",
   "metadata": {},
   "source": [
    "## Using Scipy for Statistical Testing\n",
    "\n",
    "When performing a **statistical test**, we start with a **null hypothesis (H0)** and aim to **falsify** it. The **null hypothesis (H0)** typically posits that there is no relationship (or difference) between the distributions being tested. To evaluate whether **H0** is false, we use the **p-value**. The **p-value** estimates how likely it is to observe the differences between the two sets if the null hypothesis were true. For example, a p-value of 0.04 means there is a 4% chance that **H0** is true, which suggests that we report a statistically significant relationship (or difference) between the distributions. Note that the p-value does not indicate the importance or biological relevance of the observed relationship.\n",
    "\n",
    "## Scipy\n",
    "\n",
    "[Scipy](https://scipy.org/) is a comprehensive package for scientific computing widely used in Python. It is included in our virtual environment due to previously installed packages. To check if it is installed, try running the block below. If you encounter issues, you can [install Scipy](https://anaconda.org/conda-forge/scipy) using the following command:"
   ]
  },
  {
   "cell_type": "code",
   "execution_count": 4,
   "metadata": {},
   "outputs": [],
   "source": [
    "# this time I am loading part of the library, the part called stats\n",
    "from scipy import stats \n",
    "# as this runs, we are good to continue"
   ]
  },
  {
   "cell_type": "markdown",
   "metadata": {},
   "source": [
    "For clarity let us get out the numbers of interest from the data table by using the ```query``` method of pandas data_frames. ```query``` allows us to extract values from a column while filtering based ob the values of another. Bellow, I ```query``` for the **Area** values that belong to **Student 01** and **02** respectively."
   ]
  },
  {
   "cell_type": "code",
   "execution_count": 5,
   "metadata": {},
   "outputs": [],
   "source": [
    "Area_s1=df.query(\"Student == '01'\")['Area']\n",
    "Area_s2=df.query(\"Student == '02'\")['Area']"
   ]
  },
  {
   "cell_type": "markdown",
   "metadata": {},
   "source": [
    "One of the most common mistakes while doing statistical testing is to use a particular method, e.g. t-test, whitout checkig first that the underlying assumptions of the test are true. In general we must check the following to know what tests we can use:\n",
    "\n",
    "* Independence: each meassurement of the variables is independent of each other\n",
    "\n",
    "* Normality: the data follows a normal distribution (Gaussian distribution)\n",
    "\n",
    "* Homogeneous variance: the variance (spread around the mean) within each group being compared is similar\n",
    "\n",
    "\n",
    "## Homogeneity\n",
    "Lets us first test for homogeneous variance "
   ]
  },
  {
   "cell_type": "code",
   "execution_count": 6,
   "metadata": {},
   "outputs": [
    {
     "data": {
      "text/plain": [
       "LeveneResult(statistic=np.float64(0.1985044133097972), pvalue=np.float64(0.65671395315861))"
      ]
     },
     "execution_count": 6,
     "metadata": {},
     "output_type": "execute_result"
    }
   ],
   "source": [
    "# homogeneity\n",
    "stats.levene(Area_s1, Area_s2)"
   ]
  },
  {
   "cell_type": "markdown",
   "metadata": {},
   "source": [
    "Interpretation:\n",
    "* Levene's Test Statistic: 0.1985: This value by itself doesn't tell us much. It's used to calculate the p-value.\n",
    "* P-value: 0.6567: This is the key value for interpretation. The p-value is much larger than the typical significance levels (0.05 or 0.01).\n",
    "\n",
    "How to interpret:\n",
    "1. Null Hypothesis (H0): The variances of the two groups (Area_s1 and Area_s2) are equal (homogeneous).\n",
    "2. Alternative Hypothesis (Ha): The variances of the two groups are not equal (heterogeneous).\n",
    "3. Decision Rule:\n",
    "    * If p-value < significance level (usually 0.05), reject the null hypothesis.\n",
    "    * If p-value ≥ significance level, fail to reject the null hypothesis.\n",
    "4. Interpretation:\n",
    "    * Since the p-value (0.6567) is much larger than 0.05, we fail to reject the null hypothesis.\n",
    "    * This means we do not have sufficient evidence to conclude that the variances are significantly different.\n",
    "    * In other words, we can assume that the variances are homogeneous.\n",
    "\n",
    "Conclusion:\n",
    "Based on Levene's test, we can conclude that there is no significant difference in the variances of Area_s1 and Area_s2. The assumption of homogeneity of variances is met."
   ]
  },
  {
   "cell_type": "markdown",
   "metadata": {},
   "source": [
    "## Normality\n",
    "\n",
    "Now we check is the distributions to test are normal - aka Gaussian"
   ]
  },
  {
   "cell_type": "code",
   "execution_count": 7,
   "metadata": {},
   "outputs": [
    {
     "data": {
      "text/plain": [
       "ShapiroResult(statistic=np.float64(0.9708005068493674), pvalue=np.float64(0.15260880873570404))"
      ]
     },
     "execution_count": 7,
     "metadata": {},
     "output_type": "execute_result"
    }
   ],
   "source": [
    "# Shapiro-Wilk test for normality\n",
    "stats.shapiro(Area_s1)"
   ]
  },
  {
   "cell_type": "markdown",
   "metadata": {},
   "source": [
    "Interpretation:\n",
    "1. Shapiro-Wilk Test Statistic: 0.9708\n",
    "    * This value ranges from 0 to 1.\n",
    "    * Values closer to 1 indicate a higher likelihood of normal distribution.\n",
    "    * 0.9708 is fairly close to 1, suggesting the data might be normally distributed.\n",
    "2. P-value: 0.1526\n",
    "    * This is the key value for interpretation.\n",
    "    * The p-value is larger than the typical significance levels (0.05 or 0.01).\n",
    "\n",
    "How to interpret:\n",
    "1. Null Hypothesis (H0): The sample data (Area_s1) is normally distributed.\n",
    "2. Alternative Hypothesis (Ha): The sample data is not normally distributed.\n",
    "3. Decision Rule:\n",
    "    * If p-value < significance level (usually 0.05), reject the null hypothesis.\n",
    "    * If p-value ≥ significance level, fail to reject the null hypothesis.\n",
    "4. Interpretation:\n",
    "    * Since the p-value (0.1526) is larger than 0.05, we fail to reject the null hypothesis.\n",
    "    * This means we do not have sufficient evidence to conclude that the data is not normally distributed.\n",
    "    * In other words, we can assume that Area_s1 is approximately normally distributed.\n",
    "\n",
    "Conclusion:\n",
    "Based on the Shapiro-Wilk test, we can conclude that there is no significant evidence against the normality of Area_s1. The data appears to be consistent with a normal distribution."
   ]
  },
  {
   "cell_type": "code",
   "execution_count": 8,
   "metadata": {},
   "outputs": [
    {
     "data": {
      "text/plain": [
       "ShapiroResult(statistic=np.float64(0.9699967276382352), pvalue=np.float64(0.12092209473947735))"
      ]
     },
     "execution_count": 8,
     "metadata": {},
     "output_type": "execute_result"
    }
   ],
   "source": [
    "# Shapiro-Wilk test for normality\n",
    "stats.shapiro(Area_s2)"
   ]
  },
  {
   "cell_type": "markdown",
   "metadata": {},
   "source": [
    "## The actual t-test\n",
    "\n",
    "Now that all seems to be good then we can run the t-test"
   ]
  },
  {
   "cell_type": "code",
   "execution_count": 9,
   "metadata": {},
   "outputs": [
    {
     "data": {
      "text/plain": [
       "TtestResult(statistic=np.float64(0.20792518265523485), pvalue=np.float64(0.8356312727307184), df=np.float64(123.0))"
      ]
     },
     "execution_count": 9,
     "metadata": {},
     "output_type": "execute_result"
    }
   ],
   "source": [
    "# Independent t-test\n",
    "stats.ttest_ind(Area_s1, Area_s2)"
   ]
  },
  {
   "cell_type": "markdown",
   "metadata": {},
   "source": [
    "The independent samples t-test is used to determine whether there is a statistically significant difference between the means of two unrelated groups.\n",
    "\n",
    "Interpretation:\n",
    "1. T-statistic: 0.2079\n",
    "    * This value represents the difference between the two group means in units of standard error.\n",
    "    * The closer this value is to 0, the more similar the group means are.\n",
    "2. P-value: 0.8356\n",
    "    * This is the key value for interpretation.\n",
    "    * The p-value is much larger than the typical significance levels (0.05 or 0.01).\n",
    "3. Degrees of Freedom (df): 123\n",
    "    * This represents the sample size and complexity of the test.\n",
    "    * It's used in calculating the p-value and critical values.\n",
    "\n",
    "How to interpret:\n",
    "1. Null Hypothesis (H0): There is no significant difference between the means of Area_s1 and Area_s2.\n",
    "2. Alternative Hypothesis (Ha): There is a significant difference between the means of Area_s1 and Area_s2.\n",
    "3. Decision Rule:\n",
    "    * If p-value < significance level (usually 0.05), reject the null hypothesis.\n",
    "    * If p-value ≥ significance level, fail to reject the null hypothesis.\n",
    "4. Interpretation:\n",
    "    * Since the p-value (0.8356) is much larger than 0.05, we fail to reject the null hypothesis.\n",
    "    * This means we do not have sufficient evidence to conclude that there is a significant difference between the means of Area_s1 and Area_s2.\n",
    "\n",
    "Conclusion:\n",
    "Based on the t-test results, we can conclude that there is no statistically significant difference between the means of Area_s1 and Area_s2. \n",
    "The observed difference between the sample means is not convincing enough to say that the average Areas differ between the two groups in the population.\n",
    "\n",
    "Practical Implications:\n",
    "* The two groups (s1 and s2) appear to have similar average Areas.\n",
    "* Any observed differences in the sample means are likely due to random chance rather than a true difference in the populations.\n",
    "* This result suggests that the factor distinguishing s1 and s2 (e.g., different treatments, groups, etc.) does not significantly affect the Area measurement.\n",
    "\n",
    "Remember:\n",
    "* Failing to reject the null hypothesis doesn't prove that the means are exactly equal, just that we don't have enough evidence to conclude they're different."
   ]
  }
 ],
 "metadata": {
  "kernelspec": {
   "display_name": "phd-bias-env",
   "language": "python",
   "name": "python3"
  },
  "language_info": {
   "codemirror_mode": {
    "name": "ipython",
    "version": 3
   },
   "file_extension": ".py",
   "mimetype": "text/x-python",
   "name": "python",
   "nbconvert_exporter": "python",
   "pygments_lexer": "ipython3",
   "version": "3.10.14"
  },
  "orig_nbformat": 4
 },
 "nbformat": 4,
 "nbformat_minor": 2
}
