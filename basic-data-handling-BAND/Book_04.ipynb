{
 "cells": [
  {
   "cell_type": "markdown",
   "metadata": {},
   "source": [
    "# Book 4: How to do more ellaborated plots using seaborn\n",
    "\n",
    "Here we will go over how to use ```pandas``` to read several ```.csv``` files, **concatenate** them into a single table, and then use ```seaborn``` for plotting.\n",
    "\n",
    "## Install seaborn\n",
    "Full instructions [here](https://anaconda.org/conda-forge/seaborn)\n",
    "\n",
    "* Go to the Anaconda Prompt\n",
    "* activate your conda environment:\n",
    "\n",
    "```\n",
    "> conda activate bias-env\n",
    "```\n",
    "* run the command: ```conda install -c conda-forge seaborn```\n",
    "* say yes via ```y```\n",
    "\n",
    "## Load the data\n",
    "Let us use what we learned before to load the ```.csv``` table into a data frame"
   ]
  },
  {
   "cell_type": "code",
   "execution_count": null,
   "metadata": {},
   "outputs": [],
   "source": [
    "import pandas as pd\n",
    "import seaborn as sns\n",
    "\n",
    "df1 = pd.read_csv('./data/Results_01.csv')\n",
    "df1['Student'] = '01'\n",
    "\n",
    "df2 = pd.read_csv('./data/Results_02.csv')\n",
    "df2['Student'] = '02'\n",
    "\n",
    "# concatenate\n",
    "df = pd.concat([df1, df2])\n",
    "df.sample(10)\n"
   ]
  },
  {
   "cell_type": "markdown",
   "metadata": {},
   "source": [
    "Lets use seaborn"
   ]
  },
  {
   "cell_type": "code",
   "execution_count": null,
   "metadata": {},
   "outputs": [],
   "source": [
    "sns.violinplot(x='Student', y='Area', data=df)"
   ]
  }
 ],
 "metadata": {
  "kernelspec": {
   "display_name": "Python 3.9.13 ('bias-env')",
   "language": "python",
   "name": "python3"
  },
  "language_info": {
   "codemirror_mode": {
    "name": "ipython",
    "version": 3
   },
   "file_extension": ".py",
   "mimetype": "text/x-python",
   "name": "python",
   "nbconvert_exporter": "python",
   "pygments_lexer": "ipython3",
   "version": "3.9.18"
  },
  "orig_nbformat": 4,
  "vscode": {
   "interpreter": {
    "hash": "a02576cc11b8a30283279cac21081ca45fa867e2bd6a6ef9b059d3b132dd7208"
   }
  }
 },
 "nbformat": 4,
 "nbformat_minor": 2
}
