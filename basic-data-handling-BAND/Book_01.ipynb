{
 "cells": [
  {
   "cell_type": "markdown",
   "id": "c7754642",
   "metadata": {},
   "source": [
    "# Book 1: How to read a csv file into a data table\n",
    "\n",
    "Here we will go over how to use ```pandas``` to read ```.csv``` files into panda´s  **data_frames**, and how to make simple statistics\n",
    "\n",
    "## Simple math with just Python\n",
    "\n",
    "We will create 2 numeric variables ```a``` and ```b``` and then ```print``` their sum."
   ]
  },
  {
   "cell_type": "code",
   "execution_count": 1,
   "id": "34faf413",
   "metadata": {},
   "outputs": [
    {
     "name": "stdout",
     "output_type": "stream",
     "text": [
      "8\n"
     ]
    }
   ],
   "source": [
    "a = 3\n",
    "b = 5\n",
    "\n",
    "print(a+b)"
   ]
  },
  {
   "cell_type": "markdown",
   "id": "511c9b4d",
   "metadata": {},
   "source": [
    "Lest play a bit with strings"
   ]
  },
  {
   "cell_type": "code",
   "execution_count": 2,
   "id": "bc852d1d",
   "metadata": {},
   "outputs": [
    {
     "name": "stdout",
     "output_type": "stream",
     "text": [
      "I am having fun\n",
      "I am  able to do basic math, and I am having fun\n"
     ]
    }
   ],
   "source": [
    "str_1 = \"I am \"\n",
    "str_2 = \"having fun\"\n",
    "\n",
    "# this works very much similar to IJ Macros\n",
    "print(str_1 + str_2)\n",
    "\n",
    "# so called f-strings are a cool way of controlling better what info you print\n",
    "print(f\"{str_1} able to do basic math, and I am {str_2}\")"
   ]
  },
  {
   "cell_type": "markdown",
   "id": "d3af30eb",
   "metadata": {},
   "source": [
    "As you can se above, using numeric data and strings in Python is simple and is familar to the way we write in IJ macros. In fact IJ has a language called Jython, which you can use it to program your macros. \n",
    "\n",
    "So why to learn Python? because it is order of magnitudes better than IJ macros when doing data science operations, such as, statistics, data cleaning, modeling and plotting. The purpose of this module is just to show you how you can start working with Python and we take as an example how to load ```.csv``` files into Python and work with them.\n",
    "\n",
    "## Using Pandas to read csv files into data tables\n",
    "\n",
    "Now we will use a well known package called [pandas](https://pandas.pydata.org/) to load ```.csv``` files into data tables called **data frames**. To install ```pandas``` you can follow this [link](https://anaconda.org/conda-forge/pandas). But basically:\n",
    "\n",
    "* Go to the Anaconda Prompt\n",
    "* activate your conda environment:\n",
    "\n",
    "```\n",
    "> conda activate bias-env\n",
    "```\n",
    "* run the command: ```conda install -c conda-forge pandas```\n",
    "* say yes via ```y```"
   ]
  },
  {
   "cell_type": "code",
   "execution_count": 3,
   "id": "258031f7",
   "metadata": {},
   "outputs": [
    {
     "data": {
      "text/html": [
       "<div>\n",
       "<style scoped>\n",
       "    .dataframe tbody tr th:only-of-type {\n",
       "        vertical-align: middle;\n",
       "    }\n",
       "\n",
       "    .dataframe tbody tr th {\n",
       "        vertical-align: top;\n",
       "    }\n",
       "\n",
       "    .dataframe thead th {\n",
       "        text-align: right;\n",
       "    }\n",
       "</style>\n",
       "<table border=\"1\" class=\"dataframe\">\n",
       "  <thead>\n",
       "    <tr style=\"text-align: right;\">\n",
       "      <th></th>\n",
       "      <th></th>\n",
       "      <th>Label</th>\n",
       "      <th>Area</th>\n",
       "      <th>Perim.</th>\n",
       "      <th>Circ.</th>\n",
       "      <th>AR</th>\n",
       "      <th>Round</th>\n",
       "      <th>Solidity</th>\n",
       "    </tr>\n",
       "  </thead>\n",
       "  <tbody>\n",
       "    <tr>\n",
       "      <th>0</th>\n",
       "      <td>1</td>\n",
       "      <td>blobs.gif</td>\n",
       "      <td>425</td>\n",
       "      <td>90.42641</td>\n",
       "      <td>0.65314</td>\n",
       "      <td>2.06670</td>\n",
       "      <td>0.48386</td>\n",
       "      <td>0.88542</td>\n",
       "    </tr>\n",
       "    <tr>\n",
       "      <th>1</th>\n",
       "      <td>2</td>\n",
       "      <td>blobs.gif</td>\n",
       "      <td>181</td>\n",
       "      <td>55.21320</td>\n",
       "      <td>0.74611</td>\n",
       "      <td>1.77749</td>\n",
       "      <td>0.56259</td>\n",
       "      <td>0.94517</td>\n",
       "    </tr>\n",
       "    <tr>\n",
       "      <th>2</th>\n",
       "      <td>3</td>\n",
       "      <td>blobs.gif</td>\n",
       "      <td>656</td>\n",
       "      <td>96.52691</td>\n",
       "      <td>0.88474</td>\n",
       "      <td>1.06472</td>\n",
       "      <td>0.93921</td>\n",
       "      <td>0.96970</td>\n",
       "    </tr>\n",
       "    <tr>\n",
       "      <th>3</th>\n",
       "      <td>4</td>\n",
       "      <td>blobs.gif</td>\n",
       "      <td>430</td>\n",
       "      <td>79.11270</td>\n",
       "      <td>0.86335</td>\n",
       "      <td>1.06156</td>\n",
       "      <td>0.94201</td>\n",
       "      <td>0.95662</td>\n",
       "    </tr>\n",
       "    <tr>\n",
       "      <th>4</th>\n",
       "      <td>5</td>\n",
       "      <td>blobs.gif</td>\n",
       "      <td>477</td>\n",
       "      <td>86.04163</td>\n",
       "      <td>0.80968</td>\n",
       "      <td>1.56805</td>\n",
       "      <td>0.63773</td>\n",
       "      <td>0.96657</td>\n",
       "    </tr>\n",
       "  </tbody>\n",
       "</table>\n",
       "</div>"
      ],
      "text/plain": [
       "          Label  Area    Perim.    Circ.       AR    Round  Solidity\n",
       "0  1  blobs.gif   425  90.42641  0.65314  2.06670  0.48386   0.88542\n",
       "1  2  blobs.gif   181  55.21320  0.74611  1.77749  0.56259   0.94517\n",
       "2  3  blobs.gif   656  96.52691  0.88474  1.06472  0.93921   0.96970\n",
       "3  4  blobs.gif   430  79.11270  0.86335  1.06156  0.94201   0.95662\n",
       "4  5  blobs.gif   477  86.04163  0.80968  1.56805  0.63773   0.96657"
      ]
     },
     "execution_count": 3,
     "metadata": {},
     "output_type": "execute_result"
    }
   ],
   "source": [
    "# by using the import command I make the pandas library available to me, the \"as pd\" is\n",
    "# a good practice. This way if I wan to use a function/method from pandas I always start\n",
    "# by pd.\n",
    "import pandas as pd \n",
    "\n",
    "# load csv file into a data_frame, think of it as a table of spread sheet\n",
    "df1 = pd.read_csv('./data/Results_01.csv')\n",
    "\n",
    "# there is a nice command for you to explore what is inside a data_frame, its called head.\n",
    "df1.head()"
   ]
  },
  {
   "cell_type": "markdown",
   "id": "7f98f459",
   "metadata": {},
   "source": [
    "## dtypes:\n",
    "Tells you if your table was loaded \"properly\"\n",
    "\n",
    "object -> string or mixed\n",
    "\n",
    "int64 -> integer\n",
    "\n",
    "float64 -> float\n",
    "\n",
    "bool -> logical true/false"
   ]
  },
  {
   "cell_type": "code",
   "execution_count": 4,
   "id": "a8036b14",
   "metadata": {},
   "outputs": [
    {
     "data": {
      "text/plain": [
       "              int64\n",
       "Label        object\n",
       "Area          int64\n",
       "Perim.      float64\n",
       "Circ.       float64\n",
       "AR          float64\n",
       "Round       float64\n",
       "Solidity    float64\n",
       "dtype: object"
      ]
     },
     "execution_count": 4,
     "metadata": {},
     "output_type": "execute_result"
    }
   ],
   "source": [
    "df1.dtypes"
   ]
  },
  {
   "cell_type": "markdown",
   "id": "a8734237",
   "metadata": {},
   "source": [
    "# Getting basic statistics\n",
    "\n",
    "Now that we have tabular data, then we can do classical operations like calculating the mean value of a particular column. See the example below but also type your own so you see the power of auto completion."
   ]
  },
  {
   "cell_type": "code",
   "execution_count": 5,
   "id": "e87889d4",
   "metadata": {},
   "outputs": [
    {
     "data": {
      "text/plain": [
       "np.float64(355.4754098360656)"
      ]
     },
     "execution_count": 5,
     "metadata": {},
     "output_type": "execute_result"
    }
   ],
   "source": [
    "# very basic way of gettng the mean\n",
    "df1[\"Area\"].mean()"
   ]
  },
  {
   "cell_type": "markdown",
   "id": "39f1f193",
   "metadata": {},
   "source": [
    "Now if you want to have better control when printing values I recommend that you get familiar with f-strings. It is a very nice way of controlling how you print the information to the user. Below an exampe:"
   ]
  },
  {
   "cell_type": "code",
   "execution_count": 6,
   "id": "8687e69d",
   "metadata": {},
   "outputs": [
    {
     "name": "stdout",
     "output_type": "stream",
     "text": [
      "The mean value of Area is: 355.475.\n"
     ]
    }
   ],
   "source": [
    "# Let us store the mean value into a variable called val\n",
    "val = df1[\"Area\"].mean()\n",
    "# then I can use a f-string to print the value, and also format the way it will be printed\n",
    "# the format is indicated by the text after the :, in this example :.3f means than only\n",
    "# 3 numbers will be printed after the decimal point\n",
    "print(f\"The mean value of Area is: {val:.3f}.\")"
   ]
  },
  {
   "cell_type": "markdown",
   "id": "61779d43",
   "metadata": {},
   "source": [
    "We can also get a simple summary of statistics"
   ]
  },
  {
   "cell_type": "code",
   "execution_count": 7,
   "id": "b07f98d4",
   "metadata": {},
   "outputs": [
    {
     "data": {
      "text/plain": [
       "count     61.000000\n",
       "mean     355.475410\n",
       "std      208.090173\n",
       "min       14.000000\n",
       "25%      202.000000\n",
       "50%      368.000000\n",
       "75%      500.000000\n",
       "max      886.000000\n",
       "Name: Area, dtype: float64"
      ]
     },
     "execution_count": 7,
     "metadata": {},
     "output_type": "execute_result"
    }
   ],
   "source": [
    "df1[\"Area\"].describe()"
   ]
  }
 ],
 "metadata": {
  "kernelspec": {
   "display_name": "phd-bias-env",
   "language": "python",
   "name": "python3"
  },
  "language_info": {
   "codemirror_mode": {
    "name": "ipython",
    "version": 3
   },
   "file_extension": ".py",
   "mimetype": "text/x-python",
   "name": "python",
   "nbconvert_exporter": "python",
   "pygments_lexer": "ipython3",
   "version": "3.10.14"
  }
 },
 "nbformat": 4,
 "nbformat_minor": 5
}
