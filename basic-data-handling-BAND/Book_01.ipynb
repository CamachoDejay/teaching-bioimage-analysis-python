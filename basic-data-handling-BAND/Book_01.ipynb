{
 "cells": [
  {
   "cell_type": "markdown",
   "id": "c7754642",
   "metadata": {},
   "source": [
    "# Book 1: How to read a csv file into a data table\n",
    "\n",
    "Here we will go over how to use ```pandas``` to read ```.csv``` files into panda´s  **data_frames**, and how to make simple statistics\n",
    "\n",
    "## Simple math with just Python\n",
    "\n",
    "We will create 2 numeric variables ```a``` and ```b``` and then ```print``` their sum."
   ]
  },
  {
   "cell_type": "code",
   "execution_count": null,
   "id": "34faf413",
   "metadata": {},
   "outputs": [],
   "source": [
    "a = 3\n",
    "b = 5\n",
    "\n",
    "print(a+b)"
   ]
  },
  {
   "cell_type": "markdown",
   "id": "511c9b4d",
   "metadata": {},
   "source": [
    "Lest play a bit with strings"
   ]
  },
  {
   "cell_type": "code",
   "execution_count": null,
   "id": "bc852d1d",
   "metadata": {},
   "outputs": [],
   "source": [
    "str_1 = \"I am \"\n",
    "str_2 = \"having fun\"\n",
    "\n",
    "# this works very much similar to IJ Macros\n",
    "print(str_1 + str_2)\n",
    "\n",
    "# so called f-strings are a cool way of controlling better what info you print\n",
    "print(f\"{str_1} able to do basic math, and I am {str_2}\")"
   ]
  },
  {
   "cell_type": "markdown",
   "id": "d3af30eb",
   "metadata": {},
   "source": [
    "As you can se above, using numeric data and strings in Python is simple and is familar to the way we write in IJ macros. In fact IJ has a language called Jython, which you can use it to program your macros. \n",
    "\n",
    "So why to learn Python? because it is order of magnitudes better than IJ macros when doing data science operations, such as, statistics, data cleaning, modeling and plotting. The purpose of this module is just to show you how you can start working with Python and we take as an example how to load ```.csv``` files into Python and work with them.\n",
    "\n",
    "## Using Pandas to read csv files into data tables\n",
    "\n",
    "Now we will use a well known package called [pandas](https://pandas.pydata.org/) to load ```.csv``` files into data tables called **data frames**. To install ```pandas``` you can follow this [link](https://anaconda.org/conda-forge/pandas). But basically:\n",
    "\n",
    "* Go to the Anaconda Prompt\n",
    "* activate your conda environment:\n",
    "\n",
    "```\n",
    "> conda activate bias-env\n",
    "```\n",
    "* run the command: ```conda install -c conda-forge pandas```\n",
    "* say yes via ```y```"
   ]
  },
  {
   "cell_type": "code",
   "execution_count": null,
   "id": "258031f7",
   "metadata": {},
   "outputs": [],
   "source": [
    "# by using the import command I make the pandas library available to me, the \"as pd\" is\n",
    "# a good practice. This way if I wan to use a function/method from pandas I always start\n",
    "# by pd.\n",
    "import pandas as pd \n",
    "\n",
    "# load csv file into a data_frame, think of it as a table of spread sheet\n",
    "df1 = pd.read_csv('./data/Results_01.csv')\n",
    "\n",
    "# there is a nice command for you to explore what is inside a data_frame, its called head.\n",
    "df1.head()"
   ]
  },
  {
   "cell_type": "markdown",
   "id": "7f98f459",
   "metadata": {},
   "source": [
    "## dtypes:\n",
    "Tells you if your table was loaded \"properly\"\n",
    "\n",
    "object -> string or mixed\n",
    "\n",
    "int64 -> integer\n",
    "\n",
    "float64 -> float\n",
    "\n",
    "bool -> logical true/false"
   ]
  },
  {
   "cell_type": "code",
   "execution_count": null,
   "id": "a8036b14",
   "metadata": {},
   "outputs": [],
   "source": [
    "df1.dtypes"
   ]
  },
  {
   "cell_type": "markdown",
   "id": "a8734237",
   "metadata": {},
   "source": [
    "# Getting basic statistics\n",
    "\n",
    "Now that we have tabular data, then we can do classical operations like calculating the mean value of a particular column. See the example below but also type your own so you see the power of auto completion."
   ]
  },
  {
   "cell_type": "code",
   "execution_count": null,
   "id": "e87889d4",
   "metadata": {},
   "outputs": [],
   "source": [
    "# very basic way of gettng the mean\n",
    "df1[\"Area\"].mean()"
   ]
  },
  {
   "cell_type": "markdown",
   "id": "39f1f193",
   "metadata": {},
   "source": [
    "Now if you want to have better control when printing values I recommend that you get familiar with f-strings. It is a very nice way of controlling how you print the information to the user. Below an exampe:"
   ]
  },
  {
   "cell_type": "code",
   "execution_count": null,
   "id": "8687e69d",
   "metadata": {},
   "outputs": [],
   "source": [
    "# Let us store the mean value into a variable called val\n",
    "val = df1[\"Area\"].mean()\n",
    "# then I can use a f-string to print the value, and also format the way it will be printed\n",
    "# the format is indicated by the text after the :, in this example :.3f means than only\n",
    "# 3 numbers will be printed after the decimal point\n",
    "print(f\"The mean value of Area is: {val:.3f}.\")"
   ]
  },
  {
   "cell_type": "markdown",
   "id": "61779d43",
   "metadata": {},
   "source": [
    "We can also get a simple summary of statistics"
   ]
  },
  {
   "cell_type": "code",
   "execution_count": null,
   "id": "b07f98d4",
   "metadata": {},
   "outputs": [],
   "source": [
    "df1[\"Area\"].describe()"
   ]
  }
 ],
 "metadata": {
  "kernelspec": {
   "display_name": "bias-env",
   "language": "python",
   "name": "bias-env"
  },
  "language_info": {
   "codemirror_mode": {
    "name": "ipython",
    "version": 3
   },
   "file_extension": ".py",
   "mimetype": "text/x-python",
   "name": "python",
   "nbconvert_exporter": "python",
   "pygments_lexer": "ipython3",
   "version": "3.9.18"
  },
  "vscode": {
   "interpreter": {
    "hash": "a02576cc11b8a30283279cac21081ca45fa867e2bd6a6ef9b059d3b132dd7208"
   }
  }
 },
 "nbformat": 4,
 "nbformat_minor": 5
}
