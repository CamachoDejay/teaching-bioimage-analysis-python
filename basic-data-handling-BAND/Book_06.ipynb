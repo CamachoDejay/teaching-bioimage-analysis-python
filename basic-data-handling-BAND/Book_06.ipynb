{
 "cells": [
  {
   "cell_type": "markdown",
   "metadata": {},
   "source": [
    "# Quick example of a pivot table\n",
    "\n",
    "Inspired in the last excercise of JY we can pick up where he left and see an exaple of a pivot table\n",
    "\n",
    "A pivot table is a powerful tool that helps you summarize and analyze data quickly and easily. Imagine you have a large dataset, like a list of students and their scores in different subjects. Instead of manually calculating averages or totals, a pivot table allows you to group the data by specific categories, such as each student, and automatically calculate metrics like the sum and mean of their scores. This way, you can quickly see how each student is performing without getting lost in the details of the raw data. It's like having a smart organizer that helps you find insights and patterns in your information effortlessly!"
   ]
  },
  {
   "cell_type": "code",
   "execution_count": 3,
   "metadata": {},
   "outputs": [
    {
     "name": "stdout",
     "output_type": "stream",
     "text": [
      "number of cols: 125, number of rows: 9\n"
     ]
    },
    {
     "data": {
      "text/html": [
       "<div>\n",
       "<style scoped>\n",
       "    .dataframe tbody tr th:only-of-type {\n",
       "        vertical-align: middle;\n",
       "    }\n",
       "\n",
       "    .dataframe tbody tr th {\n",
       "        vertical-align: top;\n",
       "    }\n",
       "\n",
       "    .dataframe thead th {\n",
       "        text-align: right;\n",
       "    }\n",
       "</style>\n",
       "<table border=\"1\" class=\"dataframe\">\n",
       "  <thead>\n",
       "    <tr style=\"text-align: right;\">\n",
       "      <th></th>\n",
       "      <th>Unnamed: 0</th>\n",
       "      <th>Label</th>\n",
       "      <th>Area</th>\n",
       "      <th>Perim.</th>\n",
       "      <th>Circ.</th>\n",
       "      <th>AR</th>\n",
       "      <th>Round</th>\n",
       "      <th>Solidity</th>\n",
       "      <th>Student</th>\n",
       "    </tr>\n",
       "  </thead>\n",
       "  <tbody>\n",
       "    <tr>\n",
       "      <th>0</th>\n",
       "      <td>0</td>\n",
       "      <td>blobs.gif</td>\n",
       "      <td>425</td>\n",
       "      <td>90.42641</td>\n",
       "      <td>0.65314</td>\n",
       "      <td>2.06670</td>\n",
       "      <td>0.48386</td>\n",
       "      <td>0.88542</td>\n",
       "      <td>1</td>\n",
       "    </tr>\n",
       "    <tr>\n",
       "      <th>1</th>\n",
       "      <td>1</td>\n",
       "      <td>blobs.gif</td>\n",
       "      <td>181</td>\n",
       "      <td>55.21320</td>\n",
       "      <td>0.74611</td>\n",
       "      <td>1.77749</td>\n",
       "      <td>0.56259</td>\n",
       "      <td>0.94517</td>\n",
       "      <td>1</td>\n",
       "    </tr>\n",
       "    <tr>\n",
       "      <th>2</th>\n",
       "      <td>2</td>\n",
       "      <td>blobs.gif</td>\n",
       "      <td>656</td>\n",
       "      <td>96.52691</td>\n",
       "      <td>0.88474</td>\n",
       "      <td>1.06472</td>\n",
       "      <td>0.93921</td>\n",
       "      <td>0.96970</td>\n",
       "      <td>1</td>\n",
       "    </tr>\n",
       "    <tr>\n",
       "      <th>3</th>\n",
       "      <td>3</td>\n",
       "      <td>blobs.gif</td>\n",
       "      <td>430</td>\n",
       "      <td>79.11270</td>\n",
       "      <td>0.86335</td>\n",
       "      <td>1.06156</td>\n",
       "      <td>0.94201</td>\n",
       "      <td>0.95662</td>\n",
       "      <td>1</td>\n",
       "    </tr>\n",
       "    <tr>\n",
       "      <th>4</th>\n",
       "      <td>4</td>\n",
       "      <td>blobs.gif</td>\n",
       "      <td>477</td>\n",
       "      <td>86.04163</td>\n",
       "      <td>0.80968</td>\n",
       "      <td>1.56805</td>\n",
       "      <td>0.63773</td>\n",
       "      <td>0.96657</td>\n",
       "      <td>1</td>\n",
       "    </tr>\n",
       "  </tbody>\n",
       "</table>\n",
       "</div>"
      ],
      "text/plain": [
       "   Unnamed: 0      Label  Area    Perim.    Circ.       AR    Round  Solidity  \\\n",
       "0           0  blobs.gif   425  90.42641  0.65314  2.06670  0.48386   0.88542   \n",
       "1           1  blobs.gif   181  55.21320  0.74611  1.77749  0.56259   0.94517   \n",
       "2           2  blobs.gif   656  96.52691  0.88474  1.06472  0.93921   0.96970   \n",
       "3           3  blobs.gif   430  79.11270  0.86335  1.06156  0.94201   0.95662   \n",
       "4           4  blobs.gif   477  86.04163  0.80968  1.56805  0.63773   0.96657   \n",
       "\n",
       "   Student  \n",
       "0        1  \n",
       "1        1  \n",
       "2        1  \n",
       "3        1  \n",
       "4        1  "
      ]
     },
     "execution_count": 3,
     "metadata": {},
     "output_type": "execute_result"
    }
   ],
   "source": [
    "import pandas as pd \n",
    "\n",
    "df = pd.read_csv('./data/Results_total.csv')\n",
    "print(f\"number of cols: {df.shape[0]}, number of rows: {df.shape[1]}\")\n",
    "\n",
    "df.head()"
   ]
  },
  {
   "cell_type": "markdown",
   "metadata": {},
   "source": [
    "The pivot table. For some simple examples look at: https://www.machinelearningplus.com/pandas/pandas-pivot-table-in-python/"
   ]
  },
  {
   "cell_type": "code",
   "execution_count": 4,
   "metadata": {},
   "outputs": [
    {
     "name": "stdout",
     "output_type": "stream",
     "text": [
      "               sum      mean\n",
      "                AR        AR\n",
      "Student                     \n",
      "1         98.33391  1.612031\n",
      "2        103.37781  1.615278\n"
     ]
    }
   ],
   "source": [
    "output = pd.pivot_table(data=df, \n",
    "                        index=['Student'], \n",
    "                        #columns=['Categorical'], \n",
    "                        values='AR',\n",
    "                        aggfunc=['sum', 'mean'])\n",
    "\n",
    "print(output.head())"
   ]
  }
 ],
 "metadata": {
  "kernelspec": {
   "display_name": "Python 3.9.13 ('bias-env')",
   "language": "python",
   "name": "python3"
  },
  "language_info": {
   "codemirror_mode": {
    "name": "ipython",
    "version": 3
   },
   "file_extension": ".py",
   "mimetype": "text/x-python",
   "name": "python",
   "nbconvert_exporter": "python",
   "pygments_lexer": "ipython3",
   "version": "3.10.14"
  },
  "orig_nbformat": 4,
  "vscode": {
   "interpreter": {
    "hash": "a02576cc11b8a30283279cac21081ca45fa867e2bd6a6ef9b059d3b132dd7208"
   }
  }
 },
 "nbformat": 4,
 "nbformat_minor": 2
}
